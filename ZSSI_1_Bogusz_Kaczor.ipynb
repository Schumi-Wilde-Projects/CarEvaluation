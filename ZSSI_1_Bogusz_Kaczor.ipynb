{
 "cells": [
  {
   "cell_type": "code",
   "execution_count": 30,
   "id": "bbf2f7fa",
   "metadata": {},
   "outputs": [],
   "source": [
    "import tensorflow as tf\n",
    "from tensorflow import keras\n",
    "import seaborn as sns\n",
    "\n",
    "import numpy as np\n",
    "import matplotlib.pyplot as plt\n",
    "\n",
    "from tensorflow.keras import models\n",
    "from tensorflow.keras import layers\n",
    "\n",
    "import pandas as pd"
   ]
  },
  {
   "cell_type": "markdown",
   "id": "2471c633",
   "metadata": {},
   "source": [
    "# Eksploracyjna analiza danych"
   ]
  },
  {
   "cell_type": "markdown",
   "id": "63cb9459",
   "metadata": {},
   "source": [
    "Celem projektu jest utworzenie zbioru notatników Jupyter Notebook, których\n",
    "zadaniem jest klasyfikacja atrakcyjności danego samochodu. Brane będą pod uwagę\n",
    "zmienne m.in. cena, specyfikacje, koszty utrzymania, poziom komfortu itp. Na tej podstawie\n",
    "program ustali czy samochód jest bardzo dobry, dobry, akceptowalny lub nieakceptowalny.\n",
    "Analizowanym zbiorem danych jest Car Evaluation Data Set ze strony\n",
    "https://archive.ics.uci.edu/ml/datasets/Car+Evaluation. Zawiera on ok. 1700 rekordów i nie\n",
    "zawiera brakujących danych. Służy on do klasyfikacji atrakcyjności samochodu."
   ]
  },
  {
   "cell_type": "markdown",
   "id": "50b3900d",
   "metadata": {},
   "source": [
    "Na początku wczytano wyżej wymieniony zbiór danych, który zostanie przeanalizowany przy użyciu biblioteki Pandas, oraz wyświetlono jego fragment na ekranie."
   ]
  },
  {
   "cell_type": "code",
   "execution_count": 31,
   "id": "b88dd3c6",
   "metadata": {},
   "outputs": [],
   "source": [
    "cars = pd.read_csv('car.data', encoding='utf-8')"
   ]
  },
  {
   "cell_type": "code",
   "execution_count": 32,
   "id": "88bf3d09",
   "metadata": {},
   "outputs": [
    {
     "data": {
      "text/html": [
       "<div>\n",
       "<style scoped>\n",
       "    .dataframe tbody tr th:only-of-type {\n",
       "        vertical-align: middle;\n",
       "    }\n",
       "\n",
       "    .dataframe tbody tr th {\n",
       "        vertical-align: top;\n",
       "    }\n",
       "\n",
       "    .dataframe thead th {\n",
       "        text-align: right;\n",
       "    }\n",
       "</style>\n",
       "<table border=\"1\" class=\"dataframe\">\n",
       "  <thead>\n",
       "    <tr style=\"text-align: right;\">\n",
       "      <th></th>\n",
       "      <th>buying</th>\n",
       "      <th>maint</th>\n",
       "      <th>doors</th>\n",
       "      <th>persons</th>\n",
       "      <th>lug_boot</th>\n",
       "      <th>safety</th>\n",
       "      <th>accept</th>\n",
       "    </tr>\n",
       "  </thead>\n",
       "  <tbody>\n",
       "    <tr>\n",
       "      <th>0</th>\n",
       "      <td>vhigh</td>\n",
       "      <td>vhigh</td>\n",
       "      <td>2</td>\n",
       "      <td>2</td>\n",
       "      <td>small</td>\n",
       "      <td>low</td>\n",
       "      <td>unacc</td>\n",
       "    </tr>\n",
       "    <tr>\n",
       "      <th>1</th>\n",
       "      <td>vhigh</td>\n",
       "      <td>vhigh</td>\n",
       "      <td>2</td>\n",
       "      <td>2</td>\n",
       "      <td>small</td>\n",
       "      <td>med</td>\n",
       "      <td>unacc</td>\n",
       "    </tr>\n",
       "    <tr>\n",
       "      <th>2</th>\n",
       "      <td>vhigh</td>\n",
       "      <td>vhigh</td>\n",
       "      <td>2</td>\n",
       "      <td>2</td>\n",
       "      <td>small</td>\n",
       "      <td>high</td>\n",
       "      <td>unacc</td>\n",
       "    </tr>\n",
       "    <tr>\n",
       "      <th>3</th>\n",
       "      <td>vhigh</td>\n",
       "      <td>vhigh</td>\n",
       "      <td>2</td>\n",
       "      <td>2</td>\n",
       "      <td>med</td>\n",
       "      <td>low</td>\n",
       "      <td>unacc</td>\n",
       "    </tr>\n",
       "    <tr>\n",
       "      <th>4</th>\n",
       "      <td>vhigh</td>\n",
       "      <td>vhigh</td>\n",
       "      <td>2</td>\n",
       "      <td>2</td>\n",
       "      <td>med</td>\n",
       "      <td>med</td>\n",
       "      <td>unacc</td>\n",
       "    </tr>\n",
       "    <tr>\n",
       "      <th>...</th>\n",
       "      <td>...</td>\n",
       "      <td>...</td>\n",
       "      <td>...</td>\n",
       "      <td>...</td>\n",
       "      <td>...</td>\n",
       "      <td>...</td>\n",
       "      <td>...</td>\n",
       "    </tr>\n",
       "    <tr>\n",
       "      <th>1723</th>\n",
       "      <td>low</td>\n",
       "      <td>low</td>\n",
       "      <td>5more</td>\n",
       "      <td>more</td>\n",
       "      <td>med</td>\n",
       "      <td>med</td>\n",
       "      <td>good</td>\n",
       "    </tr>\n",
       "    <tr>\n",
       "      <th>1724</th>\n",
       "      <td>low</td>\n",
       "      <td>low</td>\n",
       "      <td>5more</td>\n",
       "      <td>more</td>\n",
       "      <td>med</td>\n",
       "      <td>high</td>\n",
       "      <td>vgood</td>\n",
       "    </tr>\n",
       "    <tr>\n",
       "      <th>1725</th>\n",
       "      <td>low</td>\n",
       "      <td>low</td>\n",
       "      <td>5more</td>\n",
       "      <td>more</td>\n",
       "      <td>big</td>\n",
       "      <td>low</td>\n",
       "      <td>unacc</td>\n",
       "    </tr>\n",
       "    <tr>\n",
       "      <th>1726</th>\n",
       "      <td>low</td>\n",
       "      <td>low</td>\n",
       "      <td>5more</td>\n",
       "      <td>more</td>\n",
       "      <td>big</td>\n",
       "      <td>med</td>\n",
       "      <td>good</td>\n",
       "    </tr>\n",
       "    <tr>\n",
       "      <th>1727</th>\n",
       "      <td>low</td>\n",
       "      <td>low</td>\n",
       "      <td>5more</td>\n",
       "      <td>more</td>\n",
       "      <td>big</td>\n",
       "      <td>high</td>\n",
       "      <td>vgood</td>\n",
       "    </tr>\n",
       "  </tbody>\n",
       "</table>\n",
       "<p>1728 rows × 7 columns</p>\n",
       "</div>"
      ],
      "text/plain": [
       "     buying  maint  doors persons lug_boot safety accept\n",
       "0     vhigh  vhigh      2       2    small    low  unacc\n",
       "1     vhigh  vhigh      2       2    small    med  unacc\n",
       "2     vhigh  vhigh      2       2    small   high  unacc\n",
       "3     vhigh  vhigh      2       2      med    low  unacc\n",
       "4     vhigh  vhigh      2       2      med    med  unacc\n",
       "...     ...    ...    ...     ...      ...    ...    ...\n",
       "1723    low    low  5more    more      med    med   good\n",
       "1724    low    low  5more    more      med   high  vgood\n",
       "1725    low    low  5more    more      big    low  unacc\n",
       "1726    low    low  5more    more      big    med   good\n",
       "1727    low    low  5more    more      big   high  vgood\n",
       "\n",
       "[1728 rows x 7 columns]"
      ]
     },
     "execution_count": 32,
     "metadata": {},
     "output_type": "execute_result"
    }
   ],
   "source": [
    "cars"
   ]
  },
  {
   "cell_type": "markdown",
   "id": "3e3cbddd",
   "metadata": {},
   "source": [
    "Nastepnie wyświetlono typ danych poszczególnych kolumn. Jak widać poniżej, wszystkie mają Pythonowy typ object."
   ]
  },
  {
   "cell_type": "code",
   "execution_count": 33,
   "id": "b3edf601",
   "metadata": {},
   "outputs": [
    {
     "data": {
      "text/plain": [
       "buying      object\n",
       "maint       object\n",
       "doors       object\n",
       "persons     object\n",
       "lug_boot    object\n",
       "safety      object\n",
       "accept      object\n",
       "dtype: object"
      ]
     },
     "execution_count": 33,
     "metadata": {},
     "output_type": "execute_result"
    }
   ],
   "source": [
    "cars.dtypes"
   ]
  },
  {
   "cell_type": "markdown",
   "id": "4f67193c",
   "metadata": {},
   "source": [
    "Potem wyświetlono wszystkie możliwe wartości atrybutów dla każdej kolumy. Wszystkie mają 3 lub 4 możliwe wartości."
   ]
  },
  {
   "cell_type": "code",
   "execution_count": 34,
   "id": "822e91bc",
   "metadata": {},
   "outputs": [
    {
     "data": {
      "text/plain": [
       "array(['vhigh', 'high', 'med', 'low'], dtype=object)"
      ]
     },
     "execution_count": 34,
     "metadata": {},
     "output_type": "execute_result"
    }
   ],
   "source": [
    "cars.buying.unique()"
   ]
  },
  {
   "cell_type": "code",
   "execution_count": 35,
   "id": "4468244e",
   "metadata": {},
   "outputs": [
    {
     "data": {
      "text/plain": [
       "array(['vhigh', 'high', 'med', 'low'], dtype=object)"
      ]
     },
     "execution_count": 35,
     "metadata": {},
     "output_type": "execute_result"
    }
   ],
   "source": [
    "cars.maint.unique()"
   ]
  },
  {
   "cell_type": "code",
   "execution_count": 36,
   "id": "910a1f76",
   "metadata": {},
   "outputs": [
    {
     "data": {
      "text/plain": [
       "array(['2', '3', '4', '5more'], dtype=object)"
      ]
     },
     "execution_count": 36,
     "metadata": {},
     "output_type": "execute_result"
    }
   ],
   "source": [
    "cars.doors.unique()"
   ]
  },
  {
   "cell_type": "code",
   "execution_count": 37,
   "id": "0847ef57",
   "metadata": {},
   "outputs": [
    {
     "data": {
      "text/plain": [
       "array(['2', '4', 'more'], dtype=object)"
      ]
     },
     "execution_count": 37,
     "metadata": {},
     "output_type": "execute_result"
    }
   ],
   "source": [
    "cars.persons.unique()"
   ]
  },
  {
   "cell_type": "code",
   "execution_count": 38,
   "id": "e592a578",
   "metadata": {},
   "outputs": [
    {
     "data": {
      "text/plain": [
       "array(['small', 'med', 'big'], dtype=object)"
      ]
     },
     "execution_count": 38,
     "metadata": {},
     "output_type": "execute_result"
    }
   ],
   "source": [
    "cars.lug_boot.unique()"
   ]
  },
  {
   "cell_type": "code",
   "execution_count": 39,
   "id": "9f722bd6",
   "metadata": {},
   "outputs": [
    {
     "data": {
      "text/plain": [
       "array(['low', 'med', 'high'], dtype=object)"
      ]
     },
     "execution_count": 39,
     "metadata": {},
     "output_type": "execute_result"
    }
   ],
   "source": [
    "cars.safety.unique()"
   ]
  },
  {
   "cell_type": "code",
   "execution_count": 40,
   "id": "ed7d248d",
   "metadata": {},
   "outputs": [
    {
     "data": {
      "text/plain": [
       "array(['unacc', 'acc', 'vgood', 'good'], dtype=object)"
      ]
     },
     "execution_count": 40,
     "metadata": {},
     "output_type": "execute_result"
    }
   ],
   "source": [
    "cars.accept.unique()"
   ]
  },
  {
   "cell_type": "markdown",
   "id": "92bc000e",
   "metadata": {},
   "source": [
    "Następnie sporządzono histogramy dla każdej z kolumn. Jak widać poniżej, dla wszystkich kolumn liczba atrybutów są równe, co może oznaczać że zbiór danych jest mocno zrównoważony."
   ]
  },
  {
   "cell_type": "code",
   "execution_count": 41,
   "id": "6df78f79",
   "metadata": {},
   "outputs": [
    {
     "data": {
      "text/plain": [
       "<AxesSubplot: >"
      ]
     },
     "execution_count": 41,
     "metadata": {},
     "output_type": "execute_result"
    },
    {
     "data": {
      "image/png": "[encoded data removed]",
      "text/plain": [
       "<Figure size 640x480 with 1 Axes>"
      ]
     },
     "metadata": {},
     "output_type": "display_data"
    }
   ],
   "source": [
    "cars[\"buying\"].hist()"
   ]
  },
  {
   "cell_type": "code",
   "execution_count": 42,
   "id": "4b4d56be",
   "metadata": {},
   "outputs": [
    {
     "data": {
      "text/plain": [
       "<AxesSubplot: >"
      ]
     },
     "execution_count": 42,
     "metadata": {},
     "output_type": "execute_result"
    },
    {
     "data": {
      "image/png": "[encoded data removed]",
      "text/plain": [
       "<Figure size 640x480 with 1 Axes>"
      ]
     },
     "metadata": {},
     "output_type": "display_data"
    }
   ],
   "source": [
    "cars[\"maint\"].hist()"
   ]
  },
  {
   "cell_type": "code",
   "execution_count": 43,
   "id": "c35e5501",
   "metadata": {},
   "outputs": [
    {
     "data": {
      "text/plain": [
       "<AxesSubplot: >"
      ]
     },
     "execution_count": 43,
     "metadata": {},
     "output_type": "execute_result"
    },
    {
     "data": {
      "image/png": "[encoded data removed]",
      "text/plain": [
       "<Figure size 640x480 with 1 Axes>"
      ]
     },
     "metadata": {},
     "output_type": "display_data"
    }
   ],
   "source": [
    "cars[\"doors\"].hist()"
   ]
  },
  {
   "cell_type": "code",
   "execution_count": 44,
   "id": "881cf1f8",
   "metadata": {},
   "outputs": [
    {
     "data": {
      "text/plain": [
       "<AxesSubplot: >"
      ]
     },
     "execution_count": 44,
     "metadata": {},
     "output_type": "execute_result"
    },
    {
     "data": {
      "image/png": "[encoded data removed]",
      "text/plain": [
       "<Figure size 640x480 with 1 Axes>"
      ]
     },
     "metadata": {},
     "output_type": "display_data"
    }
   ],
   "source": [
    "cars[\"persons\"].hist()"
   ]
  },
  {
   "cell_type": "code",
   "execution_count": 45,
   "id": "893ef9d1",
   "metadata": {},
   "outputs": [
    {
     "data": {
      "text/plain": [
       "<AxesSubplot: >"
      ]
     },
     "execution_count": 45,
     "metadata": {},
     "output_type": "execute_result"
    },
    {
     "data": {
      "image/png": "[encoded data removed]",
      "text/plain": [
       "<Figure size 640x480 with 1 Axes>"
      ]
     },
     "metadata": {},
     "output_type": "display_data"
    }
   ],
   "source": [
    "cars[\"lug_boot\"].hist()"
   ]
  },
  {
   "cell_type": "code",
   "execution_count": 46,
   "id": "e7c39127",
   "metadata": {},
   "outputs": [
    {
     "data": {
      "text/plain": [
       "<AxesSubplot: >"
      ]
     },
     "execution_count": 46,
     "metadata": {},
     "output_type": "execute_result"
    },
    {
     "data": {
      "image/png": "[encoded data removed]",
      "text/plain": [
       "<Figure size 640x480 with 1 Axes>"
      ]
     },
     "metadata": {},
     "output_type": "display_data"
    }
   ],
   "source": [
    "cars[\"lug_boot\"].hist()"
   ]
  },
  {
   "cell_type": "markdown",
   "id": "bb31833f",
   "metadata": {},
   "source": [
    "Wszystko się zaczyna zmieniać gdy weźmiemy pod uwagę atrybut decyzyjny. Zdecydowana większość samochodów (około 1200) nie była akceptowalna do kupna przez potencjalnego nabywcę. Zaledwie 500 samochodów była akceptowalna lub lepsza do kupna."
   ]
  },
  {
   "cell_type": "code",
   "execution_count": 47,
   "id": "b289c55f",
   "metadata": {},
   "outputs": [
    {
     "data": {
      "text/plain": [
       "<AxesSubplot: >"
      ]
     },
     "execution_count": 47,
     "metadata": {},
     "output_type": "execute_result"
    },
    {
     "data": {
      "image/png": "[encoded data removed]",
      "text/plain": [
       "<Figure size 640x480 with 1 Axes>"
      ]
     },
     "metadata": {},
     "output_type": "display_data"
    }
   ],
   "source": [
    "cars[\"accept\"].hist()"
   ]
  },
  {
   "cell_type": "markdown",
   "id": "bc188c41",
   "metadata": {},
   "source": [
    "Następnie wyświetlono listę duplikatów, które mogą się pojawić w analizowanym zbiorze danych przy pomocy metody `duplicated()` z biblioteki Pandas."
   ]
  },
  {
   "cell_type": "code",
   "execution_count": 48,
   "id": "bfcab386",
   "metadata": {},
   "outputs": [
    {
     "data": {
      "text/html": [
       "<div>\n",
       "<style scoped>\n",
       "    .dataframe tbody tr th:only-of-type {\n",
       "        vertical-align: middle;\n",
       "    }\n",
       "\n",
       "    .dataframe tbody tr th {\n",
       "        vertical-align: top;\n",
       "    }\n",
       "\n",
       "    .dataframe thead th {\n",
       "        text-align: right;\n",
       "    }\n",
       "</style>\n",
       "<table border=\"1\" class=\"dataframe\">\n",
       "  <thead>\n",
       "    <tr style=\"text-align: right;\">\n",
       "      <th></th>\n",
       "      <th>buying</th>\n",
       "      <th>maint</th>\n",
       "      <th>doors</th>\n",
       "      <th>persons</th>\n",
       "      <th>lug_boot</th>\n",
       "      <th>safety</th>\n",
       "      <th>accept</th>\n",
       "    </tr>\n",
       "  </thead>\n",
       "  <tbody>\n",
       "  </tbody>\n",
       "</table>\n",
       "</div>"
      ],
      "text/plain": [
       "Empty DataFrame\n",
       "Columns: [buying, maint, doors, persons, lug_boot, safety, accept]\n",
       "Index: []"
      ]
     },
     "execution_count": 48,
     "metadata": {},
     "output_type": "execute_result"
    }
   ],
   "source": [
    "duplicate_rows = cars[cars.duplicated()]\n",
    "duplicate_rows"
   ]
  },
  {
   "cell_type": "markdown",
   "id": "3d43ca8a",
   "metadata": {},
   "source": [
    "Jak widać powyżej, zbiór danych nie zawiera żadnych duplikatów. By uzyskać pewność, wywołano funkcję `any()` na tablicy values. Funkcja zwróciła wartość False, co oznacza że analizowany zbiór danych nie zawiera duplikatów."
   ]
  },
  {
   "cell_type": "code",
   "execution_count": 49,
   "id": "f0fae148",
   "metadata": {},
   "outputs": [
    {
     "data": {
      "text/plain": [
       "False"
      ]
     },
     "execution_count": 49,
     "metadata": {},
     "output_type": "execute_result"
    }
   ],
   "source": [
    "cars.isnull().values.any()"
   ]
  },
  {
   "cell_type": "code",
   "execution_count": 50,
   "id": "44bad9b9",
   "metadata": {},
   "outputs": [
    {
     "data": {
      "text/plain": [
       "buying      0\n",
       "maint       0\n",
       "doors       0\n",
       "persons     0\n",
       "lug_boot    0\n",
       "safety      0\n",
       "accept      0\n",
       "dtype: int64"
      ]
     },
     "execution_count": 50,
     "metadata": {},
     "output_type": "execute_result"
    }
   ],
   "source": [
    "cars.isnull().sum()"
   ]
  },
  {
   "cell_type": "markdown",
   "id": "fa6da6e5",
   "metadata": {},
   "source": [
    "Następnie zbadano wszystkie atrybuty pod kątem wartości, które biorą udział w ustalaniu wartości atrybutu decyzyjnego."
   ]
  },
  {
   "cell_type": "code",
   "execution_count": 51,
   "id": "7c10b2ab",
   "metadata": {},
   "outputs": [
    {
     "data": {
      "text/html": [
       "<div>\n",
       "<style scoped>\n",
       "    .dataframe tbody tr th:only-of-type {\n",
       "        vertical-align: middle;\n",
       "    }\n",
       "\n",
       "    .dataframe tbody tr th {\n",
       "        vertical-align: top;\n",
       "    }\n",
       "\n",
       "    .dataframe thead th {\n",
       "        text-align: right;\n",
       "    }\n",
       "</style>\n",
       "<table border=\"1\" class=\"dataframe\">\n",
       "  <thead>\n",
       "    <tr style=\"text-align: right;\">\n",
       "      <th></th>\n",
       "      <th>buying</th>\n",
       "      <th>accept</th>\n",
       "    </tr>\n",
       "  </thead>\n",
       "  <tbody>\n",
       "    <tr>\n",
       "      <th>0</th>\n",
       "      <td>high</td>\n",
       "      <td>acc</td>\n",
       "    </tr>\n",
       "    <tr>\n",
       "      <th>1</th>\n",
       "      <td>high</td>\n",
       "      <td>unacc</td>\n",
       "    </tr>\n",
       "    <tr>\n",
       "      <th>2</th>\n",
       "      <td>low</td>\n",
       "      <td>acc</td>\n",
       "    </tr>\n",
       "    <tr>\n",
       "      <th>3</th>\n",
       "      <td>low</td>\n",
       "      <td>good</td>\n",
       "    </tr>\n",
       "    <tr>\n",
       "      <th>4</th>\n",
       "      <td>low</td>\n",
       "      <td>unacc</td>\n",
       "    </tr>\n",
       "    <tr>\n",
       "      <th>5</th>\n",
       "      <td>low</td>\n",
       "      <td>vgood</td>\n",
       "    </tr>\n",
       "    <tr>\n",
       "      <th>6</th>\n",
       "      <td>med</td>\n",
       "      <td>acc</td>\n",
       "    </tr>\n",
       "    <tr>\n",
       "      <th>7</th>\n",
       "      <td>med</td>\n",
       "      <td>good</td>\n",
       "    </tr>\n",
       "    <tr>\n",
       "      <th>8</th>\n",
       "      <td>med</td>\n",
       "      <td>unacc</td>\n",
       "    </tr>\n",
       "    <tr>\n",
       "      <th>9</th>\n",
       "      <td>med</td>\n",
       "      <td>vgood</td>\n",
       "    </tr>\n",
       "    <tr>\n",
       "      <th>10</th>\n",
       "      <td>vhigh</td>\n",
       "      <td>acc</td>\n",
       "    </tr>\n",
       "    <tr>\n",
       "      <th>11</th>\n",
       "      <td>vhigh</td>\n",
       "      <td>unacc</td>\n",
       "    </tr>\n",
       "  </tbody>\n",
       "</table>\n",
       "</div>"
      ],
      "text/plain": [
       "   buying accept\n",
       "0    high    acc\n",
       "1    high  unacc\n",
       "2     low    acc\n",
       "3     low   good\n",
       "4     low  unacc\n",
       "5     low  vgood\n",
       "6     med    acc\n",
       "7     med   good\n",
       "8     med  unacc\n",
       "9     med  vgood\n",
       "10  vhigh    acc\n",
       "11  vhigh  unacc"
      ]
     },
     "execution_count": 51,
     "metadata": {},
     "output_type": "execute_result"
    }
   ],
   "source": [
    "cars[['buying', 'accept']].groupby(['buying', 'accept'], as_index=False).mean()"
   ]
  },
  {
   "cell_type": "markdown",
   "id": "b3fbd927",
   "metadata": {},
   "source": [
    "Z powyższej tabeli wynika, że gdy cena jest wysoka lub bardzo wysoka, to atrakcyjność samochodu jest w najlepszym wypadku akceptowalna, natomiast gdy cena jest średnia lub niska to atrakcyjność samochodu była również dobra lub bardzo dobra. Może to sugerować, że wysoka cena samochodu nie przekłada się na akceptowalność samochodu."
   ]
  },
  {
   "cell_type": "code",
   "execution_count": 52,
   "id": "39f4fd3a",
   "metadata": {},
   "outputs": [
    {
     "data": {
      "text/html": [
       "<div>\n",
       "<style scoped>\n",
       "    .dataframe tbody tr th:only-of-type {\n",
       "        vertical-align: middle;\n",
       "    }\n",
       "\n",
       "    .dataframe tbody tr th {\n",
       "        vertical-align: top;\n",
       "    }\n",
       "\n",
       "    .dataframe thead th {\n",
       "        text-align: right;\n",
       "    }\n",
       "</style>\n",
       "<table border=\"1\" class=\"dataframe\">\n",
       "  <thead>\n",
       "    <tr style=\"text-align: right;\">\n",
       "      <th></th>\n",
       "      <th>maint</th>\n",
       "      <th>accept</th>\n",
       "    </tr>\n",
       "  </thead>\n",
       "  <tbody>\n",
       "    <tr>\n",
       "      <th>0</th>\n",
       "      <td>high</td>\n",
       "      <td>acc</td>\n",
       "    </tr>\n",
       "    <tr>\n",
       "      <th>1</th>\n",
       "      <td>high</td>\n",
       "      <td>unacc</td>\n",
       "    </tr>\n",
       "    <tr>\n",
       "      <th>2</th>\n",
       "      <td>high</td>\n",
       "      <td>vgood</td>\n",
       "    </tr>\n",
       "    <tr>\n",
       "      <th>3</th>\n",
       "      <td>low</td>\n",
       "      <td>acc</td>\n",
       "    </tr>\n",
       "    <tr>\n",
       "      <th>4</th>\n",
       "      <td>low</td>\n",
       "      <td>good</td>\n",
       "    </tr>\n",
       "    <tr>\n",
       "      <th>5</th>\n",
       "      <td>low</td>\n",
       "      <td>unacc</td>\n",
       "    </tr>\n",
       "    <tr>\n",
       "      <th>6</th>\n",
       "      <td>low</td>\n",
       "      <td>vgood</td>\n",
       "    </tr>\n",
       "    <tr>\n",
       "      <th>7</th>\n",
       "      <td>med</td>\n",
       "      <td>acc</td>\n",
       "    </tr>\n",
       "    <tr>\n",
       "      <th>8</th>\n",
       "      <td>med</td>\n",
       "      <td>good</td>\n",
       "    </tr>\n",
       "    <tr>\n",
       "      <th>9</th>\n",
       "      <td>med</td>\n",
       "      <td>unacc</td>\n",
       "    </tr>\n",
       "    <tr>\n",
       "      <th>10</th>\n",
       "      <td>med</td>\n",
       "      <td>vgood</td>\n",
       "    </tr>\n",
       "    <tr>\n",
       "      <th>11</th>\n",
       "      <td>vhigh</td>\n",
       "      <td>acc</td>\n",
       "    </tr>\n",
       "    <tr>\n",
       "      <th>12</th>\n",
       "      <td>vhigh</td>\n",
       "      <td>unacc</td>\n",
       "    </tr>\n",
       "  </tbody>\n",
       "</table>\n",
       "</div>"
      ],
      "text/plain": [
       "    maint accept\n",
       "0    high    acc\n",
       "1    high  unacc\n",
       "2    high  vgood\n",
       "3     low    acc\n",
       "4     low   good\n",
       "5     low  unacc\n",
       "6     low  vgood\n",
       "7     med    acc\n",
       "8     med   good\n",
       "9     med  unacc\n",
       "10    med  vgood\n",
       "11  vhigh    acc\n",
       "12  vhigh  unacc"
      ]
     },
     "execution_count": 52,
     "metadata": {},
     "output_type": "execute_result"
    }
   ],
   "source": [
    "cars[['maint', 'accept']].groupby(['maint', 'accept'], as_index=False).mean()"
   ]
  },
  {
   "cell_type": "markdown",
   "id": "5f5dfe78",
   "metadata": {},
   "source": [
    "Gdy koszty utrzymania samochodu są bardzo wysokie to akceptowalność samochodu jest w najlepszym wypadku akceptowalna. Co ciekawe, gdy koszt utrzymania jest wysoki, to akceptowalność samochodu była bardzo wysoka. Może to oznaczać że samochód należy do odmiany samochodów sportowych, których koszty konserwacji są wyższe niż zwykłych samochodów."
   ]
  },
  {
   "cell_type": "code",
   "execution_count": 53,
   "id": "6c5cd76a",
   "metadata": {},
   "outputs": [
    {
     "data": {
      "text/html": [
       "<div>\n",
       "<style scoped>\n",
       "    .dataframe tbody tr th:only-of-type {\n",
       "        vertical-align: middle;\n",
       "    }\n",
       "\n",
       "    .dataframe tbody tr th {\n",
       "        vertical-align: top;\n",
       "    }\n",
       "\n",
       "    .dataframe thead th {\n",
       "        text-align: right;\n",
       "    }\n",
       "</style>\n",
       "<table border=\"1\" class=\"dataframe\">\n",
       "  <thead>\n",
       "    <tr style=\"text-align: right;\">\n",
       "      <th></th>\n",
       "      <th>doors</th>\n",
       "      <th>accept</th>\n",
       "    </tr>\n",
       "  </thead>\n",
       "  <tbody>\n",
       "    <tr>\n",
       "      <th>0</th>\n",
       "      <td>2</td>\n",
       "      <td>acc</td>\n",
       "    </tr>\n",
       "    <tr>\n",
       "      <th>1</th>\n",
       "      <td>2</td>\n",
       "      <td>good</td>\n",
       "    </tr>\n",
       "    <tr>\n",
       "      <th>2</th>\n",
       "      <td>2</td>\n",
       "      <td>unacc</td>\n",
       "    </tr>\n",
       "    <tr>\n",
       "      <th>3</th>\n",
       "      <td>2</td>\n",
       "      <td>vgood</td>\n",
       "    </tr>\n",
       "    <tr>\n",
       "      <th>4</th>\n",
       "      <td>3</td>\n",
       "      <td>acc</td>\n",
       "    </tr>\n",
       "    <tr>\n",
       "      <th>5</th>\n",
       "      <td>3</td>\n",
       "      <td>good</td>\n",
       "    </tr>\n",
       "    <tr>\n",
       "      <th>6</th>\n",
       "      <td>3</td>\n",
       "      <td>unacc</td>\n",
       "    </tr>\n",
       "    <tr>\n",
       "      <th>7</th>\n",
       "      <td>3</td>\n",
       "      <td>vgood</td>\n",
       "    </tr>\n",
       "    <tr>\n",
       "      <th>8</th>\n",
       "      <td>4</td>\n",
       "      <td>acc</td>\n",
       "    </tr>\n",
       "    <tr>\n",
       "      <th>9</th>\n",
       "      <td>4</td>\n",
       "      <td>good</td>\n",
       "    </tr>\n",
       "    <tr>\n",
       "      <th>10</th>\n",
       "      <td>4</td>\n",
       "      <td>unacc</td>\n",
       "    </tr>\n",
       "    <tr>\n",
       "      <th>11</th>\n",
       "      <td>4</td>\n",
       "      <td>vgood</td>\n",
       "    </tr>\n",
       "    <tr>\n",
       "      <th>12</th>\n",
       "      <td>5more</td>\n",
       "      <td>acc</td>\n",
       "    </tr>\n",
       "    <tr>\n",
       "      <th>13</th>\n",
       "      <td>5more</td>\n",
       "      <td>good</td>\n",
       "    </tr>\n",
       "    <tr>\n",
       "      <th>14</th>\n",
       "      <td>5more</td>\n",
       "      <td>unacc</td>\n",
       "    </tr>\n",
       "    <tr>\n",
       "      <th>15</th>\n",
       "      <td>5more</td>\n",
       "      <td>vgood</td>\n",
       "    </tr>\n",
       "  </tbody>\n",
       "</table>\n",
       "</div>"
      ],
      "text/plain": [
       "    doors accept\n",
       "0       2    acc\n",
       "1       2   good\n",
       "2       2  unacc\n",
       "3       2  vgood\n",
       "4       3    acc\n",
       "5       3   good\n",
       "6       3  unacc\n",
       "7       3  vgood\n",
       "8       4    acc\n",
       "9       4   good\n",
       "10      4  unacc\n",
       "11      4  vgood\n",
       "12  5more    acc\n",
       "13  5more   good\n",
       "14  5more  unacc\n",
       "15  5more  vgood"
      ]
     },
     "execution_count": 53,
     "metadata": {},
     "output_type": "execute_result"
    }
   ],
   "source": [
    "cars[['doors', 'accept']].groupby(['doors', 'accept'], as_index=False).mean()"
   ]
  },
  {
   "cell_type": "markdown",
   "id": "f8c13db8",
   "metadata": {},
   "source": [
    "Liczba drzwi w samochodzie nie miała żadnego wpływu na akceptowalność."
   ]
  },
  {
   "cell_type": "code",
   "execution_count": 54,
   "id": "6b4c76d9",
   "metadata": {},
   "outputs": [
    {
     "data": {
      "text/html": [
       "<div>\n",
       "<style scoped>\n",
       "    .dataframe tbody tr th:only-of-type {\n",
       "        vertical-align: middle;\n",
       "    }\n",
       "\n",
       "    .dataframe tbody tr th {\n",
       "        vertical-align: top;\n",
       "    }\n",
       "\n",
       "    .dataframe thead th {\n",
       "        text-align: right;\n",
       "    }\n",
       "</style>\n",
       "<table border=\"1\" class=\"dataframe\">\n",
       "  <thead>\n",
       "    <tr style=\"text-align: right;\">\n",
       "      <th></th>\n",
       "      <th>persons</th>\n",
       "      <th>accept</th>\n",
       "    </tr>\n",
       "  </thead>\n",
       "  <tbody>\n",
       "    <tr>\n",
       "      <th>0</th>\n",
       "      <td>2</td>\n",
       "      <td>unacc</td>\n",
       "    </tr>\n",
       "    <tr>\n",
       "      <th>1</th>\n",
       "      <td>4</td>\n",
       "      <td>acc</td>\n",
       "    </tr>\n",
       "    <tr>\n",
       "      <th>2</th>\n",
       "      <td>4</td>\n",
       "      <td>good</td>\n",
       "    </tr>\n",
       "    <tr>\n",
       "      <th>3</th>\n",
       "      <td>4</td>\n",
       "      <td>unacc</td>\n",
       "    </tr>\n",
       "    <tr>\n",
       "      <th>4</th>\n",
       "      <td>4</td>\n",
       "      <td>vgood</td>\n",
       "    </tr>\n",
       "    <tr>\n",
       "      <th>5</th>\n",
       "      <td>more</td>\n",
       "      <td>acc</td>\n",
       "    </tr>\n",
       "    <tr>\n",
       "      <th>6</th>\n",
       "      <td>more</td>\n",
       "      <td>good</td>\n",
       "    </tr>\n",
       "    <tr>\n",
       "      <th>7</th>\n",
       "      <td>more</td>\n",
       "      <td>unacc</td>\n",
       "    </tr>\n",
       "    <tr>\n",
       "      <th>8</th>\n",
       "      <td>more</td>\n",
       "      <td>vgood</td>\n",
       "    </tr>\n",
       "  </tbody>\n",
       "</table>\n",
       "</div>"
      ],
      "text/plain": [
       "  persons accept\n",
       "0       2  unacc\n",
       "1       4    acc\n",
       "2       4   good\n",
       "3       4  unacc\n",
       "4       4  vgood\n",
       "5    more    acc\n",
       "6    more   good\n",
       "7    more  unacc\n",
       "8    more  vgood"
      ]
     },
     "execution_count": 54,
     "metadata": {},
     "output_type": "execute_result"
    }
   ],
   "source": [
    "cars[['persons', 'accept']].groupby(['persons', 'accept'], as_index=False).mean()"
   ]
  },
  {
   "cell_type": "markdown",
   "id": "20c233d9",
   "metadata": {},
   "source": [
    "Samochody mogące pomieścić tylko 2 osoby były uniwersalnie odrzucane przez klientów. Wybierano samochody mogące pomieścić 4 osoby lub więcej."
   ]
  },
  {
   "cell_type": "code",
   "execution_count": 55,
   "id": "74a558dd",
   "metadata": {},
   "outputs": [
    {
     "data": {
      "text/html": [
       "<div>\n",
       "<style scoped>\n",
       "    .dataframe tbody tr th:only-of-type {\n",
       "        vertical-align: middle;\n",
       "    }\n",
       "\n",
       "    .dataframe tbody tr th {\n",
       "        vertical-align: top;\n",
       "    }\n",
       "\n",
       "    .dataframe thead th {\n",
       "        text-align: right;\n",
       "    }\n",
       "</style>\n",
       "<table border=\"1\" class=\"dataframe\">\n",
       "  <thead>\n",
       "    <tr style=\"text-align: right;\">\n",
       "      <th></th>\n",
       "      <th>lug_boot</th>\n",
       "      <th>accept</th>\n",
       "    </tr>\n",
       "  </thead>\n",
       "  <tbody>\n",
       "    <tr>\n",
       "      <th>0</th>\n",
       "      <td>big</td>\n",
       "      <td>acc</td>\n",
       "    </tr>\n",
       "    <tr>\n",
       "      <th>1</th>\n",
       "      <td>big</td>\n",
       "      <td>good</td>\n",
       "    </tr>\n",
       "    <tr>\n",
       "      <th>2</th>\n",
       "      <td>big</td>\n",
       "      <td>unacc</td>\n",
       "    </tr>\n",
       "    <tr>\n",
       "      <th>3</th>\n",
       "      <td>big</td>\n",
       "      <td>vgood</td>\n",
       "    </tr>\n",
       "    <tr>\n",
       "      <th>4</th>\n",
       "      <td>med</td>\n",
       "      <td>acc</td>\n",
       "    </tr>\n",
       "    <tr>\n",
       "      <th>5</th>\n",
       "      <td>med</td>\n",
       "      <td>good</td>\n",
       "    </tr>\n",
       "    <tr>\n",
       "      <th>6</th>\n",
       "      <td>med</td>\n",
       "      <td>unacc</td>\n",
       "    </tr>\n",
       "    <tr>\n",
       "      <th>7</th>\n",
       "      <td>med</td>\n",
       "      <td>vgood</td>\n",
       "    </tr>\n",
       "    <tr>\n",
       "      <th>8</th>\n",
       "      <td>small</td>\n",
       "      <td>acc</td>\n",
       "    </tr>\n",
       "    <tr>\n",
       "      <th>9</th>\n",
       "      <td>small</td>\n",
       "      <td>good</td>\n",
       "    </tr>\n",
       "    <tr>\n",
       "      <th>10</th>\n",
       "      <td>small</td>\n",
       "      <td>unacc</td>\n",
       "    </tr>\n",
       "  </tbody>\n",
       "</table>\n",
       "</div>"
      ],
      "text/plain": [
       "   lug_boot accept\n",
       "0       big    acc\n",
       "1       big   good\n",
       "2       big  unacc\n",
       "3       big  vgood\n",
       "4       med    acc\n",
       "5       med   good\n",
       "6       med  unacc\n",
       "7       med  vgood\n",
       "8     small    acc\n",
       "9     small   good\n",
       "10    small  unacc"
      ]
     },
     "execution_count": 55,
     "metadata": {},
     "output_type": "execute_result"
    }
   ],
   "source": [
    "cars[['lug_boot', 'accept']].groupby(['lug_boot', 'accept'], as_index=False).mean()"
   ]
  },
  {
   "cell_type": "markdown",
   "id": "ce58310b",
   "metadata": {},
   "source": [
    "Samochody mające małą pojemność bagażnika nigdy nie były oceniane bardzo dobrze, poza tym pojemność samochodu nie miała wpływu na akceptowalność."
   ]
  },
  {
   "cell_type": "code",
   "execution_count": 56,
   "id": "ac04e47e",
   "metadata": {},
   "outputs": [
    {
     "data": {
      "text/html": [
       "<div>\n",
       "<style scoped>\n",
       "    .dataframe tbody tr th:only-of-type {\n",
       "        vertical-align: middle;\n",
       "    }\n",
       "\n",
       "    .dataframe tbody tr th {\n",
       "        vertical-align: top;\n",
       "    }\n",
       "\n",
       "    .dataframe thead th {\n",
       "        text-align: right;\n",
       "    }\n",
       "</style>\n",
       "<table border=\"1\" class=\"dataframe\">\n",
       "  <thead>\n",
       "    <tr style=\"text-align: right;\">\n",
       "      <th></th>\n",
       "      <th>safety</th>\n",
       "      <th>accept</th>\n",
       "    </tr>\n",
       "  </thead>\n",
       "  <tbody>\n",
       "    <tr>\n",
       "      <th>0</th>\n",
       "      <td>high</td>\n",
       "      <td>acc</td>\n",
       "    </tr>\n",
       "    <tr>\n",
       "      <th>1</th>\n",
       "      <td>high</td>\n",
       "      <td>good</td>\n",
       "    </tr>\n",
       "    <tr>\n",
       "      <th>2</th>\n",
       "      <td>high</td>\n",
       "      <td>unacc</td>\n",
       "    </tr>\n",
       "    <tr>\n",
       "      <th>3</th>\n",
       "      <td>high</td>\n",
       "      <td>vgood</td>\n",
       "    </tr>\n",
       "    <tr>\n",
       "      <th>4</th>\n",
       "      <td>low</td>\n",
       "      <td>unacc</td>\n",
       "    </tr>\n",
       "    <tr>\n",
       "      <th>5</th>\n",
       "      <td>med</td>\n",
       "      <td>acc</td>\n",
       "    </tr>\n",
       "    <tr>\n",
       "      <th>6</th>\n",
       "      <td>med</td>\n",
       "      <td>good</td>\n",
       "    </tr>\n",
       "    <tr>\n",
       "      <th>7</th>\n",
       "      <td>med</td>\n",
       "      <td>unacc</td>\n",
       "    </tr>\n",
       "  </tbody>\n",
       "</table>\n",
       "</div>"
      ],
      "text/plain": [
       "  safety accept\n",
       "0   high    acc\n",
       "1   high   good\n",
       "2   high  unacc\n",
       "3   high  vgood\n",
       "4    low  unacc\n",
       "5    med    acc\n",
       "6    med   good\n",
       "7    med  unacc"
      ]
     },
     "execution_count": 56,
     "metadata": {},
     "output_type": "execute_result"
    }
   ],
   "source": [
    "cars[['safety', 'accept']].groupby(['safety', 'accept'], as_index=False).mean()"
   ]
  },
  {
   "cell_type": "markdown",
   "id": "8a48224e",
   "metadata": {},
   "source": [
    "Samochody o niskim poziomie bezpieczeństwa nigdy nie były akceptowane, samochody o średnim natomiast nigdy nie były oceniane bardzo dobrze. Samochody o wysokim poziomie bezpieczeństwa należały do każdej z klas akceptacji."
   ]
  },
  {
   "cell_type": "code",
   "execution_count": 57,
   "id": "46c237c4",
   "metadata": {},
   "outputs": [
    {
     "data": {
      "text/html": [
       "<style type=\"text/css\">\n",
       "#T_312e3_row0_col0 {\n",
       "  background-color: #e2f066;\n",
       "  color: #000000;\n",
       "}\n",
       "#T_312e3_row0_col1, #T_312e3_row0_col3, #T_312e3_row0_col4, #T_312e3_row1_col2, #T_312e3_row1_col4, #T_312e3_row2_col4, #T_312e3_row3_col0, #T_312e3_row3_col1, #T_312e3_row3_col3, #T_312e3_row3_col4 {\n",
       "  background-color: #ffff66;\n",
       "  color: #000000;\n",
       "}\n",
       "#T_312e3_row0_col2 {\n",
       "  background-color: #eef666;\n",
       "  color: #000000;\n",
       "}\n",
       "#T_312e3_row1_col0 {\n",
       "  background-color: #f2f866;\n",
       "  color: #000000;\n",
       "}\n",
       "#T_312e3_row1_col1 {\n",
       "  background-color: #55aa66;\n",
       "  color: #f1f1f1;\n",
       "}\n",
       "#T_312e3_row1_col3 {\n",
       "  background-color: #66b266;\n",
       "  color: #f1f1f1;\n",
       "}\n",
       "#T_312e3_row2_col0 {\n",
       "  background-color: #dcee66;\n",
       "  color: #000000;\n",
       "}\n",
       "#T_312e3_row2_col1 {\n",
       "  background-color: #aad466;\n",
       "  color: #000000;\n",
       "}\n",
       "#T_312e3_row2_col2 {\n",
       "  background-color: #fdfe66;\n",
       "  color: #000000;\n",
       "}\n",
       "#T_312e3_row2_col3 {\n",
       "  background-color: #99cc66;\n",
       "  color: #000000;\n",
       "}\n",
       "#T_312e3_row3_col2 {\n",
       "  background-color: #e4f266;\n",
       "  color: #000000;\n",
       "}\n",
       "#T_312e3_row4_col0, #T_312e3_row4_col1, #T_312e3_row4_col2, #T_312e3_row4_col3, #T_312e3_row4_col4 {\n",
       "  background-color: #008066;\n",
       "  color: #f1f1f1;\n",
       "}\n",
       "</style>\n",
       "<table id=\"T_312e3\">\n",
       "  <thead>\n",
       "    <tr>\n",
       "      <th class=\"index_name level0\" >accept</th>\n",
       "      <th id=\"T_312e3_level0_col0\" class=\"col_heading level0 col0\" >acc</th>\n",
       "      <th id=\"T_312e3_level0_col1\" class=\"col_heading level0 col1\" >good</th>\n",
       "      <th id=\"T_312e3_level0_col2\" class=\"col_heading level0 col2\" >unacc</th>\n",
       "      <th id=\"T_312e3_level0_col3\" class=\"col_heading level0 col3\" >vgood</th>\n",
       "      <th id=\"T_312e3_level0_col4\" class=\"col_heading level0 col4\" >All</th>\n",
       "    </tr>\n",
       "    <tr>\n",
       "      <th class=\"index_name level0\" >buying</th>\n",
       "      <th class=\"blank col0\" >&nbsp;</th>\n",
       "      <th class=\"blank col1\" >&nbsp;</th>\n",
       "      <th class=\"blank col2\" >&nbsp;</th>\n",
       "      <th class=\"blank col3\" >&nbsp;</th>\n",
       "      <th class=\"blank col4\" >&nbsp;</th>\n",
       "    </tr>\n",
       "  </thead>\n",
       "  <tbody>\n",
       "    <tr>\n",
       "      <th id=\"T_312e3_level0_row0\" class=\"row_heading level0 row0\" >high</th>\n",
       "      <td id=\"T_312e3_row0_col0\" class=\"data row0 col0\" >108</td>\n",
       "      <td id=\"T_312e3_row0_col1\" class=\"data row0 col1\" >0</td>\n",
       "      <td id=\"T_312e3_row0_col2\" class=\"data row0 col2\" >324</td>\n",
       "      <td id=\"T_312e3_row0_col3\" class=\"data row0 col3\" >0</td>\n",
       "      <td id=\"T_312e3_row0_col4\" class=\"data row0 col4\" >432</td>\n",
       "    </tr>\n",
       "    <tr>\n",
       "      <th id=\"T_312e3_level0_row1\" class=\"row_heading level0 row1\" >low</th>\n",
       "      <td id=\"T_312e3_row1_col0\" class=\"data row1 col0\" >89</td>\n",
       "      <td id=\"T_312e3_row1_col1\" class=\"data row1 col1\" >46</td>\n",
       "      <td id=\"T_312e3_row1_col2\" class=\"data row1 col2\" >258</td>\n",
       "      <td id=\"T_312e3_row1_col3\" class=\"data row1 col3\" >39</td>\n",
       "      <td id=\"T_312e3_row1_col4\" class=\"data row1 col4\" >432</td>\n",
       "    </tr>\n",
       "    <tr>\n",
       "      <th id=\"T_312e3_level0_row2\" class=\"row_heading level0 row2\" >med</th>\n",
       "      <td id=\"T_312e3_row2_col0\" class=\"data row2 col0\" >115</td>\n",
       "      <td id=\"T_312e3_row2_col1\" class=\"data row2 col1\" >23</td>\n",
       "      <td id=\"T_312e3_row2_col2\" class=\"data row2 col2\" >268</td>\n",
       "      <td id=\"T_312e3_row2_col3\" class=\"data row2 col3\" >26</td>\n",
       "      <td id=\"T_312e3_row2_col4\" class=\"data row2 col4\" >432</td>\n",
       "    </tr>\n",
       "    <tr>\n",
       "      <th id=\"T_312e3_level0_row3\" class=\"row_heading level0 row3\" >vhigh</th>\n",
       "      <td id=\"T_312e3_row3_col0\" class=\"data row3 col0\" >72</td>\n",
       "      <td id=\"T_312e3_row3_col1\" class=\"data row3 col1\" >0</td>\n",
       "      <td id=\"T_312e3_row3_col2\" class=\"data row3 col2\" >360</td>\n",
       "      <td id=\"T_312e3_row3_col3\" class=\"data row3 col3\" >0</td>\n",
       "      <td id=\"T_312e3_row3_col4\" class=\"data row3 col4\" >432</td>\n",
       "    </tr>\n",
       "    <tr>\n",
       "      <th id=\"T_312e3_level0_row4\" class=\"row_heading level0 row4\" >All</th>\n",
       "      <td id=\"T_312e3_row4_col0\" class=\"data row4 col0\" >384</td>\n",
       "      <td id=\"T_312e3_row4_col1\" class=\"data row4 col1\" >69</td>\n",
       "      <td id=\"T_312e3_row4_col2\" class=\"data row4 col2\" >1210</td>\n",
       "      <td id=\"T_312e3_row4_col3\" class=\"data row4 col3\" >65</td>\n",
       "      <td id=\"T_312e3_row4_col4\" class=\"data row4 col4\" >1728</td>\n",
       "    </tr>\n",
       "  </tbody>\n",
       "</table>\n"
      ],
      "text/plain": [
       "<pandas.io.formats.style.Styler at 0x1f6eab00be0>"
      ]
     },
     "execution_count": 57,
     "metadata": {},
     "output_type": "execute_result"
    }
   ],
   "source": [
    "pd.crosstab(cars.buying, cars.accept, margins=True).style.background_gradient(cmap='summer_r')"
   ]
  },
  {
   "cell_type": "markdown",
   "id": "e934f81e",
   "metadata": {},
   "source": [
    "Wśród samochodów akceptowalnych najwięcej z nich miało średni koszt zakupu, a najmniej miało bardzo wysoki koszt. Wśród samochodów dobrych, jak i bardzo dobrych najwięcej miało niski koszt zakupu, natomiast wszystkie z nich miały co najwyżej średni koszt. Najwięcej samochodów nieakceptowalnych miało wysoki koszt, co może oznaczać, że zbyt wysoka cena zniechęca do kupna samochodu."
   ]
  },
  {
   "cell_type": "code",
   "execution_count": 58,
   "id": "aef003cd",
   "metadata": {},
   "outputs": [
    {
     "data": {
      "text/html": [
       "<style type=\"text/css\">\n",
       "#T_de22a_row0_col0 {\n",
       "  background-color: #e4f266;\n",
       "  color: #000000;\n",
       "}\n",
       "#T_de22a_row0_col1, #T_de22a_row0_col4, #T_de22a_row1_col2, #T_de22a_row1_col4, #T_de22a_row2_col2, #T_de22a_row2_col4, #T_de22a_row3_col0, #T_de22a_row3_col1, #T_de22a_row3_col3, #T_de22a_row3_col4 {\n",
       "  background-color: #ffff66;\n",
       "  color: #000000;\n",
       "}\n",
       "#T_de22a_row0_col2 {\n",
       "  background-color: #f3f966;\n",
       "  color: #000000;\n",
       "}\n",
       "#T_de22a_row0_col3 {\n",
       "  background-color: #cce666;\n",
       "  color: #000000;\n",
       "}\n",
       "#T_de22a_row1_col0 {\n",
       "  background-color: #eff766;\n",
       "  color: #000000;\n",
       "}\n",
       "#T_de22a_row1_col1 {\n",
       "  background-color: #55aa66;\n",
       "  color: #f1f1f1;\n",
       "}\n",
       "#T_de22a_row1_col3, #T_de22a_row2_col3 {\n",
       "  background-color: #99cc66;\n",
       "  color: #000000;\n",
       "}\n",
       "#T_de22a_row2_col0 {\n",
       "  background-color: #dcee66;\n",
       "  color: #000000;\n",
       "}\n",
       "#T_de22a_row2_col1 {\n",
       "  background-color: #aad466;\n",
       "  color: #000000;\n",
       "}\n",
       "#T_de22a_row3_col2 {\n",
       "  background-color: #e6f266;\n",
       "  color: #000000;\n",
       "}\n",
       "#T_de22a_row4_col0, #T_de22a_row4_col1, #T_de22a_row4_col2, #T_de22a_row4_col3, #T_de22a_row4_col4 {\n",
       "  background-color: #008066;\n",
       "  color: #f1f1f1;\n",
       "}\n",
       "</style>\n",
       "<table id=\"T_de22a\">\n",
       "  <thead>\n",
       "    <tr>\n",
       "      <th class=\"index_name level0\" >accept</th>\n",
       "      <th id=\"T_de22a_level0_col0\" class=\"col_heading level0 col0\" >acc</th>\n",
       "      <th id=\"T_de22a_level0_col1\" class=\"col_heading level0 col1\" >good</th>\n",
       "      <th id=\"T_de22a_level0_col2\" class=\"col_heading level0 col2\" >unacc</th>\n",
       "      <th id=\"T_de22a_level0_col3\" class=\"col_heading level0 col3\" >vgood</th>\n",
       "      <th id=\"T_de22a_level0_col4\" class=\"col_heading level0 col4\" >All</th>\n",
       "    </tr>\n",
       "    <tr>\n",
       "      <th class=\"index_name level0\" >maint</th>\n",
       "      <th class=\"blank col0\" >&nbsp;</th>\n",
       "      <th class=\"blank col1\" >&nbsp;</th>\n",
       "      <th class=\"blank col2\" >&nbsp;</th>\n",
       "      <th class=\"blank col3\" >&nbsp;</th>\n",
       "      <th class=\"blank col4\" >&nbsp;</th>\n",
       "    </tr>\n",
       "  </thead>\n",
       "  <tbody>\n",
       "    <tr>\n",
       "      <th id=\"T_de22a_level0_row0\" class=\"row_heading level0 row0\" >high</th>\n",
       "      <td id=\"T_de22a_row0_col0\" class=\"data row0 col0\" >105</td>\n",
       "      <td id=\"T_de22a_row0_col1\" class=\"data row0 col1\" >0</td>\n",
       "      <td id=\"T_de22a_row0_col2\" class=\"data row0 col2\" >314</td>\n",
       "      <td id=\"T_de22a_row0_col3\" class=\"data row0 col3\" >13</td>\n",
       "      <td id=\"T_de22a_row0_col4\" class=\"data row0 col4\" >432</td>\n",
       "    </tr>\n",
       "    <tr>\n",
       "      <th id=\"T_de22a_level0_row1\" class=\"row_heading level0 row1\" >low</th>\n",
       "      <td id=\"T_de22a_row1_col0\" class=\"data row1 col0\" >92</td>\n",
       "      <td id=\"T_de22a_row1_col1\" class=\"data row1 col1\" >46</td>\n",
       "      <td id=\"T_de22a_row1_col2\" class=\"data row1 col2\" >268</td>\n",
       "      <td id=\"T_de22a_row1_col3\" class=\"data row1 col3\" >26</td>\n",
       "      <td id=\"T_de22a_row1_col4\" class=\"data row1 col4\" >432</td>\n",
       "    </tr>\n",
       "    <tr>\n",
       "      <th id=\"T_de22a_level0_row2\" class=\"row_heading level0 row2\" >med</th>\n",
       "      <td id=\"T_de22a_row2_col0\" class=\"data row2 col0\" >115</td>\n",
       "      <td id=\"T_de22a_row2_col1\" class=\"data row2 col1\" >23</td>\n",
       "      <td id=\"T_de22a_row2_col2\" class=\"data row2 col2\" >268</td>\n",
       "      <td id=\"T_de22a_row2_col3\" class=\"data row2 col3\" >26</td>\n",
       "      <td id=\"T_de22a_row2_col4\" class=\"data row2 col4\" >432</td>\n",
       "    </tr>\n",
       "    <tr>\n",
       "      <th id=\"T_de22a_level0_row3\" class=\"row_heading level0 row3\" >vhigh</th>\n",
       "      <td id=\"T_de22a_row3_col0\" class=\"data row3 col0\" >72</td>\n",
       "      <td id=\"T_de22a_row3_col1\" class=\"data row3 col1\" >0</td>\n",
       "      <td id=\"T_de22a_row3_col2\" class=\"data row3 col2\" >360</td>\n",
       "      <td id=\"T_de22a_row3_col3\" class=\"data row3 col3\" >0</td>\n",
       "      <td id=\"T_de22a_row3_col4\" class=\"data row3 col4\" >432</td>\n",
       "    </tr>\n",
       "    <tr>\n",
       "      <th id=\"T_de22a_level0_row4\" class=\"row_heading level0 row4\" >All</th>\n",
       "      <td id=\"T_de22a_row4_col0\" class=\"data row4 col0\" >384</td>\n",
       "      <td id=\"T_de22a_row4_col1\" class=\"data row4 col1\" >69</td>\n",
       "      <td id=\"T_de22a_row4_col2\" class=\"data row4 col2\" >1210</td>\n",
       "      <td id=\"T_de22a_row4_col3\" class=\"data row4 col3\" >65</td>\n",
       "      <td id=\"T_de22a_row4_col4\" class=\"data row4 col4\" >1728</td>\n",
       "    </tr>\n",
       "  </tbody>\n",
       "</table>\n"
      ],
      "text/plain": [
       "<pandas.io.formats.style.Styler at 0x1f6eab74c70>"
      ]
     },
     "execution_count": 58,
     "metadata": {},
     "output_type": "execute_result"
    }
   ],
   "source": [
    "pd.crosstab(cars.maint, cars.accept, margins=True).style.background_gradient(cmap='summer_r')"
   ]
  },
  {
   "cell_type": "markdown",
   "id": "2f5505c3",
   "metadata": {},
   "source": [
    "W przypadku kosztu konserwacji stosunek ilościowy samochodów jest podobny, z wyjątkiem tego, że klienci byli bardziej skłonni zaakceptować wysoki koszt konserwacji (jako bardzo dobrych zostało ocenionych 13 takich samochodów)"
   ]
  },
  {
   "cell_type": "code",
   "execution_count": 59,
   "id": "b570eaa9",
   "metadata": {},
   "outputs": [
    {
     "data": {
      "text/html": [
       "<style type=\"text/css\">\n",
       "#T_9e404_row0_col0, #T_9e404_row0_col1, #T_9e404_row0_col3, #T_9e404_row0_col4, #T_9e404_row1_col4, #T_9e404_row2_col2, #T_9e404_row2_col4, #T_9e404_row3_col2, #T_9e404_row3_col4 {\n",
       "  background-color: #ffff66;\n",
       "  color: #000000;\n",
       "}\n",
       "#T_9e404_row0_col2 {\n",
       "  background-color: #f6fa66;\n",
       "  color: #000000;\n",
       "}\n",
       "#T_9e404_row1_col0 {\n",
       "  background-color: #f0f866;\n",
       "  color: #000000;\n",
       "}\n",
       "#T_9e404_row1_col1, #T_9e404_row2_col1, #T_9e404_row3_col1 {\n",
       "  background-color: #f1f866;\n",
       "  color: #000000;\n",
       "}\n",
       "#T_9e404_row1_col2 {\n",
       "  background-color: #fdfe66;\n",
       "  color: #000000;\n",
       "}\n",
       "#T_9e404_row1_col3 {\n",
       "  background-color: #e8f466;\n",
       "  color: #000000;\n",
       "}\n",
       "#T_9e404_row2_col0, #T_9e404_row3_col0 {\n",
       "  background-color: #eef666;\n",
       "  color: #000000;\n",
       "}\n",
       "#T_9e404_row2_col3, #T_9e404_row3_col3 {\n",
       "  background-color: #d1e866;\n",
       "  color: #000000;\n",
       "}\n",
       "#T_9e404_row4_col0, #T_9e404_row4_col1, #T_9e404_row4_col2, #T_9e404_row4_col3, #T_9e404_row4_col4 {\n",
       "  background-color: #008066;\n",
       "  color: #f1f1f1;\n",
       "}\n",
       "</style>\n",
       "<table id=\"T_9e404\">\n",
       "  <thead>\n",
       "    <tr>\n",
       "      <th class=\"index_name level0\" >accept</th>\n",
       "      <th id=\"T_9e404_level0_col0\" class=\"col_heading level0 col0\" >acc</th>\n",
       "      <th id=\"T_9e404_level0_col1\" class=\"col_heading level0 col1\" >good</th>\n",
       "      <th id=\"T_9e404_level0_col2\" class=\"col_heading level0 col2\" >unacc</th>\n",
       "      <th id=\"T_9e404_level0_col3\" class=\"col_heading level0 col3\" >vgood</th>\n",
       "      <th id=\"T_9e404_level0_col4\" class=\"col_heading level0 col4\" >All</th>\n",
       "    </tr>\n",
       "    <tr>\n",
       "      <th class=\"index_name level0\" >doors</th>\n",
       "      <th class=\"blank col0\" >&nbsp;</th>\n",
       "      <th class=\"blank col1\" >&nbsp;</th>\n",
       "      <th class=\"blank col2\" >&nbsp;</th>\n",
       "      <th class=\"blank col3\" >&nbsp;</th>\n",
       "      <th class=\"blank col4\" >&nbsp;</th>\n",
       "    </tr>\n",
       "  </thead>\n",
       "  <tbody>\n",
       "    <tr>\n",
       "      <th id=\"T_9e404_level0_row0\" class=\"row_heading level0 row0\" >2</th>\n",
       "      <td id=\"T_9e404_row0_col0\" class=\"data row0 col0\" >81</td>\n",
       "      <td id=\"T_9e404_row0_col1\" class=\"data row0 col1\" >15</td>\n",
       "      <td id=\"T_9e404_row0_col2\" class=\"data row0 col2\" >326</td>\n",
       "      <td id=\"T_9e404_row0_col3\" class=\"data row0 col3\" >10</td>\n",
       "      <td id=\"T_9e404_row0_col4\" class=\"data row0 col4\" >432</td>\n",
       "    </tr>\n",
       "    <tr>\n",
       "      <th id=\"T_9e404_level0_row1\" class=\"row_heading level0 row1\" >3</th>\n",
       "      <td id=\"T_9e404_row1_col0\" class=\"data row1 col0\" >99</td>\n",
       "      <td id=\"T_9e404_row1_col1\" class=\"data row1 col1\" >18</td>\n",
       "      <td id=\"T_9e404_row1_col2\" class=\"data row1 col2\" >300</td>\n",
       "      <td id=\"T_9e404_row1_col3\" class=\"data row1 col3\" >15</td>\n",
       "      <td id=\"T_9e404_row1_col4\" class=\"data row1 col4\" >432</td>\n",
       "    </tr>\n",
       "    <tr>\n",
       "      <th id=\"T_9e404_level0_row2\" class=\"row_heading level0 row2\" >4</th>\n",
       "      <td id=\"T_9e404_row2_col0\" class=\"data row2 col0\" >102</td>\n",
       "      <td id=\"T_9e404_row2_col1\" class=\"data row2 col1\" >18</td>\n",
       "      <td id=\"T_9e404_row2_col2\" class=\"data row2 col2\" >292</td>\n",
       "      <td id=\"T_9e404_row2_col3\" class=\"data row2 col3\" >20</td>\n",
       "      <td id=\"T_9e404_row2_col4\" class=\"data row2 col4\" >432</td>\n",
       "    </tr>\n",
       "    <tr>\n",
       "      <th id=\"T_9e404_level0_row3\" class=\"row_heading level0 row3\" >5more</th>\n",
       "      <td id=\"T_9e404_row3_col0\" class=\"data row3 col0\" >102</td>\n",
       "      <td id=\"T_9e404_row3_col1\" class=\"data row3 col1\" >18</td>\n",
       "      <td id=\"T_9e404_row3_col2\" class=\"data row3 col2\" >292</td>\n",
       "      <td id=\"T_9e404_row3_col3\" class=\"data row3 col3\" >20</td>\n",
       "      <td id=\"T_9e404_row3_col4\" class=\"data row3 col4\" >432</td>\n",
       "    </tr>\n",
       "    <tr>\n",
       "      <th id=\"T_9e404_level0_row4\" class=\"row_heading level0 row4\" >All</th>\n",
       "      <td id=\"T_9e404_row4_col0\" class=\"data row4 col0\" >384</td>\n",
       "      <td id=\"T_9e404_row4_col1\" class=\"data row4 col1\" >69</td>\n",
       "      <td id=\"T_9e404_row4_col2\" class=\"data row4 col2\" >1210</td>\n",
       "      <td id=\"T_9e404_row4_col3\" class=\"data row4 col3\" >65</td>\n",
       "      <td id=\"T_9e404_row4_col4\" class=\"data row4 col4\" >1728</td>\n",
       "    </tr>\n",
       "  </tbody>\n",
       "</table>\n"
      ],
      "text/plain": [
       "<pandas.io.formats.style.Styler at 0x1f6eab54580>"
      ]
     },
     "execution_count": 59,
     "metadata": {},
     "output_type": "execute_result"
    }
   ],
   "source": [
    "pd.crosstab(cars.doors, cars.accept, margins=True).style.background_gradient(cmap='summer_r')"
   ]
  },
  {
   "cell_type": "markdown",
   "id": "8cd593f0",
   "metadata": {},
   "source": [
    "Akceptowalność samochodu rosła wraz z liczbą drzwi samochodu."
   ]
  },
  {
   "cell_type": "code",
   "execution_count": 60,
   "id": "b9950e25",
   "metadata": {},
   "outputs": [
    {
     "data": {
      "text/html": [
       "<style type=\"text/css\">\n",
       "#T_9fcf8_row0_col0, #T_9fcf8_row0_col1, #T_9fcf8_row0_col3, #T_9fcf8_row0_col4, #T_9fcf8_row1_col2, #T_9fcf8_row1_col4, #T_9fcf8_row2_col4 {\n",
       "  background-color: #ffff66;\n",
       "  color: #000000;\n",
       "}\n",
       "#T_9fcf8_row0_col2 {\n",
       "  background-color: #b4da66;\n",
       "  color: #000000;\n",
       "}\n",
       "#T_9fcf8_row1_col0 {\n",
       "  background-color: #7bbd66;\n",
       "  color: #000000;\n",
       "}\n",
       "#T_9fcf8_row1_col1 {\n",
       "  background-color: #7abc66;\n",
       "  color: #000000;\n",
       "}\n",
       "#T_9fcf8_row1_col3 {\n",
       "  background-color: #89c466;\n",
       "  color: #000000;\n",
       "}\n",
       "#T_9fcf8_row2_col0 {\n",
       "  background-color: #83c166;\n",
       "  color: #000000;\n",
       "}\n",
       "#T_9fcf8_row2_col1 {\n",
       "  background-color: #85c266;\n",
       "  color: #000000;\n",
       "}\n",
       "#T_9fcf8_row2_col2 {\n",
       "  background-color: #fdfe66;\n",
       "  color: #000000;\n",
       "}\n",
       "#T_9fcf8_row2_col3 {\n",
       "  background-color: #76bb66;\n",
       "  color: #f1f1f1;\n",
       "}\n",
       "#T_9fcf8_row3_col0, #T_9fcf8_row3_col1, #T_9fcf8_row3_col2, #T_9fcf8_row3_col3, #T_9fcf8_row3_col4 {\n",
       "  background-color: #008066;\n",
       "  color: #f1f1f1;\n",
       "}\n",
       "</style>\n",
       "<table id=\"T_9fcf8\">\n",
       "  <thead>\n",
       "    <tr>\n",
       "      <th class=\"index_name level0\" >accept</th>\n",
       "      <th id=\"T_9fcf8_level0_col0\" class=\"col_heading level0 col0\" >acc</th>\n",
       "      <th id=\"T_9fcf8_level0_col1\" class=\"col_heading level0 col1\" >good</th>\n",
       "      <th id=\"T_9fcf8_level0_col2\" class=\"col_heading level0 col2\" >unacc</th>\n",
       "      <th id=\"T_9fcf8_level0_col3\" class=\"col_heading level0 col3\" >vgood</th>\n",
       "      <th id=\"T_9fcf8_level0_col4\" class=\"col_heading level0 col4\" >All</th>\n",
       "    </tr>\n",
       "    <tr>\n",
       "      <th class=\"index_name level0\" >persons</th>\n",
       "      <th class=\"blank col0\" >&nbsp;</th>\n",
       "      <th class=\"blank col1\" >&nbsp;</th>\n",
       "      <th class=\"blank col2\" >&nbsp;</th>\n",
       "      <th class=\"blank col3\" >&nbsp;</th>\n",
       "      <th class=\"blank col4\" >&nbsp;</th>\n",
       "    </tr>\n",
       "  </thead>\n",
       "  <tbody>\n",
       "    <tr>\n",
       "      <th id=\"T_9fcf8_level0_row0\" class=\"row_heading level0 row0\" >2</th>\n",
       "      <td id=\"T_9fcf8_row0_col0\" class=\"data row0 col0\" >0</td>\n",
       "      <td id=\"T_9fcf8_row0_col1\" class=\"data row0 col1\" >0</td>\n",
       "      <td id=\"T_9fcf8_row0_col2\" class=\"data row0 col2\" >576</td>\n",
       "      <td id=\"T_9fcf8_row0_col3\" class=\"data row0 col3\" >0</td>\n",
       "      <td id=\"T_9fcf8_row0_col4\" class=\"data row0 col4\" >576</td>\n",
       "    </tr>\n",
       "    <tr>\n",
       "      <th id=\"T_9fcf8_level0_row1\" class=\"row_heading level0 row1\" >4</th>\n",
       "      <td id=\"T_9fcf8_row1_col0\" class=\"data row1 col0\" >198</td>\n",
       "      <td id=\"T_9fcf8_row1_col1\" class=\"data row1 col1\" >36</td>\n",
       "      <td id=\"T_9fcf8_row1_col2\" class=\"data row1 col2\" >312</td>\n",
       "      <td id=\"T_9fcf8_row1_col3\" class=\"data row1 col3\" >30</td>\n",
       "      <td id=\"T_9fcf8_row1_col4\" class=\"data row1 col4\" >576</td>\n",
       "    </tr>\n",
       "    <tr>\n",
       "      <th id=\"T_9fcf8_level0_row2\" class=\"row_heading level0 row2\" >more</th>\n",
       "      <td id=\"T_9fcf8_row2_col0\" class=\"data row2 col0\" >186</td>\n",
       "      <td id=\"T_9fcf8_row2_col1\" class=\"data row2 col1\" >33</td>\n",
       "      <td id=\"T_9fcf8_row2_col2\" class=\"data row2 col2\" >322</td>\n",
       "      <td id=\"T_9fcf8_row2_col3\" class=\"data row2 col3\" >35</td>\n",
       "      <td id=\"T_9fcf8_row2_col4\" class=\"data row2 col4\" >576</td>\n",
       "    </tr>\n",
       "    <tr>\n",
       "      <th id=\"T_9fcf8_level0_row3\" class=\"row_heading level0 row3\" >All</th>\n",
       "      <td id=\"T_9fcf8_row3_col0\" class=\"data row3 col0\" >384</td>\n",
       "      <td id=\"T_9fcf8_row3_col1\" class=\"data row3 col1\" >69</td>\n",
       "      <td id=\"T_9fcf8_row3_col2\" class=\"data row3 col2\" >1210</td>\n",
       "      <td id=\"T_9fcf8_row3_col3\" class=\"data row3 col3\" >65</td>\n",
       "      <td id=\"T_9fcf8_row3_col4\" class=\"data row3 col4\" >1728</td>\n",
       "    </tr>\n",
       "  </tbody>\n",
       "</table>\n"
      ],
      "text/plain": [
       "<pandas.io.formats.style.Styler at 0x1f6eab561a0>"
      ]
     },
     "execution_count": 60,
     "metadata": {},
     "output_type": "execute_result"
    }
   ],
   "source": [
    "pd.crosstab(cars.persons, cars.accept, margins=True).style.background_gradient(cmap='summer_r')"
   ]
  },
  {
   "cell_type": "markdown",
   "id": "427ce079",
   "metadata": {},
   "source": [
    "Podobnie było w przypadku liczby pasażerów samochodu."
   ]
  },
  {
   "cell_type": "code",
   "execution_count": 61,
   "id": "57df1710",
   "metadata": {},
   "outputs": [
    {
     "data": {
      "text/html": [
       "<style type=\"text/css\">\n",
       "#T_a1bc4_row0_col0 {\n",
       "  background-color: #dcee66;\n",
       "  color: #000000;\n",
       "}\n",
       "#T_a1bc4_row0_col1, #T_a1bc4_row1_col1 {\n",
       "  background-color: #eff766;\n",
       "  color: #000000;\n",
       "}\n",
       "#T_a1bc4_row0_col2, #T_a1bc4_row0_col4, #T_a1bc4_row1_col4, #T_a1bc4_row2_col0, #T_a1bc4_row2_col1, #T_a1bc4_row2_col3, #T_a1bc4_row2_col4 {\n",
       "  background-color: #ffff66;\n",
       "  color: #000000;\n",
       "}\n",
       "#T_a1bc4_row0_col3 {\n",
       "  background-color: #62b066;\n",
       "  color: #f1f1f1;\n",
       "}\n",
       "#T_a1bc4_row1_col0 {\n",
       "  background-color: #e4f266;\n",
       "  color: #000000;\n",
       "}\n",
       "#T_a1bc4_row1_col2 {\n",
       "  background-color: #f8fc66;\n",
       "  color: #000000;\n",
       "}\n",
       "#T_a1bc4_row1_col3 {\n",
       "  background-color: #9dce66;\n",
       "  color: #000000;\n",
       "}\n",
       "#T_a1bc4_row2_col2 {\n",
       "  background-color: #e7f366;\n",
       "  color: #000000;\n",
       "}\n",
       "#T_a1bc4_row3_col0, #T_a1bc4_row3_col1, #T_a1bc4_row3_col2, #T_a1bc4_row3_col3, #T_a1bc4_row3_col4 {\n",
       "  background-color: #008066;\n",
       "  color: #f1f1f1;\n",
       "}\n",
       "</style>\n",
       "<table id=\"T_a1bc4\">\n",
       "  <thead>\n",
       "    <tr>\n",
       "      <th class=\"index_name level0\" >accept</th>\n",
       "      <th id=\"T_a1bc4_level0_col0\" class=\"col_heading level0 col0\" >acc</th>\n",
       "      <th id=\"T_a1bc4_level0_col1\" class=\"col_heading level0 col1\" >good</th>\n",
       "      <th id=\"T_a1bc4_level0_col2\" class=\"col_heading level0 col2\" >unacc</th>\n",
       "      <th id=\"T_a1bc4_level0_col3\" class=\"col_heading level0 col3\" >vgood</th>\n",
       "      <th id=\"T_a1bc4_level0_col4\" class=\"col_heading level0 col4\" >All</th>\n",
       "    </tr>\n",
       "    <tr>\n",
       "      <th class=\"index_name level0\" >lug_boot</th>\n",
       "      <th class=\"blank col0\" >&nbsp;</th>\n",
       "      <th class=\"blank col1\" >&nbsp;</th>\n",
       "      <th class=\"blank col2\" >&nbsp;</th>\n",
       "      <th class=\"blank col3\" >&nbsp;</th>\n",
       "      <th class=\"blank col4\" >&nbsp;</th>\n",
       "    </tr>\n",
       "  </thead>\n",
       "  <tbody>\n",
       "    <tr>\n",
       "      <th id=\"T_a1bc4_level0_row0\" class=\"row_heading level0 row0\" >big</th>\n",
       "      <td id=\"T_a1bc4_row0_col0\" class=\"data row0 col0\" >144</td>\n",
       "      <td id=\"T_a1bc4_row0_col1\" class=\"data row0 col1\" >24</td>\n",
       "      <td id=\"T_a1bc4_row0_col2\" class=\"data row0 col2\" >368</td>\n",
       "      <td id=\"T_a1bc4_row0_col3\" class=\"data row0 col3\" >40</td>\n",
       "      <td id=\"T_a1bc4_row0_col4\" class=\"data row0 col4\" >576</td>\n",
       "    </tr>\n",
       "    <tr>\n",
       "      <th id=\"T_a1bc4_level0_row1\" class=\"row_heading level0 row1\" >med</th>\n",
       "      <td id=\"T_a1bc4_row1_col0\" class=\"data row1 col0\" >135</td>\n",
       "      <td id=\"T_a1bc4_row1_col1\" class=\"data row1 col1\" >24</td>\n",
       "      <td id=\"T_a1bc4_row1_col2\" class=\"data row1 col2\" >392</td>\n",
       "      <td id=\"T_a1bc4_row1_col3\" class=\"data row1 col3\" >25</td>\n",
       "      <td id=\"T_a1bc4_row1_col4\" class=\"data row1 col4\" >576</td>\n",
       "    </tr>\n",
       "    <tr>\n",
       "      <th id=\"T_a1bc4_level0_row2\" class=\"row_heading level0 row2\" >small</th>\n",
       "      <td id=\"T_a1bc4_row2_col0\" class=\"data row2 col0\" >105</td>\n",
       "      <td id=\"T_a1bc4_row2_col1\" class=\"data row2 col1\" >21</td>\n",
       "      <td id=\"T_a1bc4_row2_col2\" class=\"data row2 col2\" >450</td>\n",
       "      <td id=\"T_a1bc4_row2_col3\" class=\"data row2 col3\" >0</td>\n",
       "      <td id=\"T_a1bc4_row2_col4\" class=\"data row2 col4\" >576</td>\n",
       "    </tr>\n",
       "    <tr>\n",
       "      <th id=\"T_a1bc4_level0_row3\" class=\"row_heading level0 row3\" >All</th>\n",
       "      <td id=\"T_a1bc4_row3_col0\" class=\"data row3 col0\" >384</td>\n",
       "      <td id=\"T_a1bc4_row3_col1\" class=\"data row3 col1\" >69</td>\n",
       "      <td id=\"T_a1bc4_row3_col2\" class=\"data row3 col2\" >1210</td>\n",
       "      <td id=\"T_a1bc4_row3_col3\" class=\"data row3 col3\" >65</td>\n",
       "      <td id=\"T_a1bc4_row3_col4\" class=\"data row3 col4\" >1728</td>\n",
       "    </tr>\n",
       "  </tbody>\n",
       "</table>\n"
      ],
      "text/plain": [
       "<pandas.io.formats.style.Styler at 0x1f6eab75720>"
      ]
     },
     "execution_count": 61,
     "metadata": {},
     "output_type": "execute_result"
    }
   ],
   "source": [
    "pd.crosstab(cars.lug_boot, cars.accept, margins=True).style.background_gradient(cmap='summer_r')"
   ]
  },
  {
   "cell_type": "markdown",
   "id": "6b05282c",
   "metadata": {},
   "source": [
    "Klienci bardziej akceptowali samochody o większej pojemności bagażnika."
   ]
  },
  {
   "cell_type": "code",
   "execution_count": 62,
   "id": "494a287d",
   "metadata": {},
   "outputs": [
    {
     "data": {
      "text/html": [
       "<style type=\"text/css\">\n",
       "#T_75262_row0_col0 {\n",
       "  background-color: #77bb66;\n",
       "  color: #f1f1f1;\n",
       "}\n",
       "#T_75262_row0_col1 {\n",
       "  background-color: #90c866;\n",
       "  color: #000000;\n",
       "}\n",
       "#T_75262_row0_col2, #T_75262_row0_col4, #T_75262_row1_col0, #T_75262_row1_col1, #T_75262_row1_col3, #T_75262_row1_col4, #T_75262_row2_col3, #T_75262_row2_col4 {\n",
       "  background-color: #ffff66;\n",
       "  color: #000000;\n",
       "}\n",
       "#T_75262_row0_col3, #T_75262_row3_col0, #T_75262_row3_col1, #T_75262_row3_col2, #T_75262_row3_col3, #T_75262_row3_col4 {\n",
       "  background-color: #008066;\n",
       "  color: #f1f1f1;\n",
       "}\n",
       "#T_75262_row1_col2 {\n",
       "  background-color: #add666;\n",
       "  color: #000000;\n",
       "}\n",
       "#T_75262_row2_col0 {\n",
       "  background-color: #87c366;\n",
       "  color: #000000;\n",
       "}\n",
       "#T_75262_row2_col1 {\n",
       "  background-color: #6fb766;\n",
       "  color: #f1f1f1;\n",
       "}\n",
       "#T_75262_row2_col2 {\n",
       "  background-color: #eaf466;\n",
       "  color: #000000;\n",
       "}\n",
       "</style>\n",
       "<table id=\"T_75262\">\n",
       "  <thead>\n",
       "    <tr>\n",
       "      <th class=\"index_name level0\" >accept</th>\n",
       "      <th id=\"T_75262_level0_col0\" class=\"col_heading level0 col0\" >acc</th>\n",
       "      <th id=\"T_75262_level0_col1\" class=\"col_heading level0 col1\" >good</th>\n",
       "      <th id=\"T_75262_level0_col2\" class=\"col_heading level0 col2\" >unacc</th>\n",
       "      <th id=\"T_75262_level0_col3\" class=\"col_heading level0 col3\" >vgood</th>\n",
       "      <th id=\"T_75262_level0_col4\" class=\"col_heading level0 col4\" >All</th>\n",
       "    </tr>\n",
       "    <tr>\n",
       "      <th class=\"index_name level0\" >safety</th>\n",
       "      <th class=\"blank col0\" >&nbsp;</th>\n",
       "      <th class=\"blank col1\" >&nbsp;</th>\n",
       "      <th class=\"blank col2\" >&nbsp;</th>\n",
       "      <th class=\"blank col3\" >&nbsp;</th>\n",
       "      <th class=\"blank col4\" >&nbsp;</th>\n",
       "    </tr>\n",
       "  </thead>\n",
       "  <tbody>\n",
       "    <tr>\n",
       "      <th id=\"T_75262_level0_row0\" class=\"row_heading level0 row0\" >high</th>\n",
       "      <td id=\"T_75262_row0_col0\" class=\"data row0 col0\" >204</td>\n",
       "      <td id=\"T_75262_row0_col1\" class=\"data row0 col1\" >30</td>\n",
       "      <td id=\"T_75262_row0_col2\" class=\"data row0 col2\" >277</td>\n",
       "      <td id=\"T_75262_row0_col3\" class=\"data row0 col3\" >65</td>\n",
       "      <td id=\"T_75262_row0_col4\" class=\"data row0 col4\" >576</td>\n",
       "    </tr>\n",
       "    <tr>\n",
       "      <th id=\"T_75262_level0_row1\" class=\"row_heading level0 row1\" >low</th>\n",
       "      <td id=\"T_75262_row1_col0\" class=\"data row1 col0\" >0</td>\n",
       "      <td id=\"T_75262_row1_col1\" class=\"data row1 col1\" >0</td>\n",
       "      <td id=\"T_75262_row1_col2\" class=\"data row1 col2\" >576</td>\n",
       "      <td id=\"T_75262_row1_col3\" class=\"data row1 col3\" >0</td>\n",
       "      <td id=\"T_75262_row1_col4\" class=\"data row1 col4\" >576</td>\n",
       "    </tr>\n",
       "    <tr>\n",
       "      <th id=\"T_75262_level0_row2\" class=\"row_heading level0 row2\" >med</th>\n",
       "      <td id=\"T_75262_row2_col0\" class=\"data row2 col0\" >180</td>\n",
       "      <td id=\"T_75262_row2_col1\" class=\"data row2 col1\" >39</td>\n",
       "      <td id=\"T_75262_row2_col2\" class=\"data row2 col2\" >357</td>\n",
       "      <td id=\"T_75262_row2_col3\" class=\"data row2 col3\" >0</td>\n",
       "      <td id=\"T_75262_row2_col4\" class=\"data row2 col4\" >576</td>\n",
       "    </tr>\n",
       "    <tr>\n",
       "      <th id=\"T_75262_level0_row3\" class=\"row_heading level0 row3\" >All</th>\n",
       "      <td id=\"T_75262_row3_col0\" class=\"data row3 col0\" >384</td>\n",
       "      <td id=\"T_75262_row3_col1\" class=\"data row3 col1\" >69</td>\n",
       "      <td id=\"T_75262_row3_col2\" class=\"data row3 col2\" >1210</td>\n",
       "      <td id=\"T_75262_row3_col3\" class=\"data row3 col3\" >65</td>\n",
       "      <td id=\"T_75262_row3_col4\" class=\"data row3 col4\" >1728</td>\n",
       "    </tr>\n",
       "  </tbody>\n",
       "</table>\n"
      ],
      "text/plain": [
       "<pandas.io.formats.style.Styler at 0x1f6eaa31e10>"
      ]
     },
     "execution_count": 62,
     "metadata": {},
     "output_type": "execute_result"
    }
   ],
   "source": [
    "pd.crosstab(cars.safety, cars.accept, margins=True).style.background_gradient(cmap='summer_r')"
   ]
  },
  {
   "cell_type": "markdown",
   "id": "f68f2bba",
   "metadata": {},
   "source": [
    "Im większe było bezpieczeństwo samochodu, tym bardziej klienci byli skłonni zaakceptować samochód. Warto zauważyć, że jako bardzo dobre oceniane były wyłącznie samochody o wysokim poziomie bezpieczeństwa, a żaden samochód o niskim poziomie bezpieczeństwa nie został zaakceptowany."
   ]
  },
  {
   "cell_type": "code",
   "execution_count": 63,
   "id": "0fae4ac1",
   "metadata": {},
   "outputs": [],
   "source": [
    "# Zamiana wartości stringów na wartości liczbowe \n",
    "\n",
    "cars['buying'].replace(['low', 'med', 'high', 'vhigh'], [0,1,2,3], inplace=True)\n",
    "cars['maint'].replace(['low', 'med', 'high', 'vhigh'], [0,1,2,3], inplace=True)\n",
    "cars['doors'].replace(['2', '3', '4', '5more'], [0,1,2,3], inplace=True)\n",
    "cars['persons'].replace(['2', '4', 'more'], [0,1,2], inplace=True)\n",
    "cars['lug_boot'].replace(['small', 'med', 'big'], [0,1,2], inplace=True)\n",
    "cars['safety'].replace(['low', 'med', 'high'], [0,1,2], inplace=True)\n",
    "cars['accept'].replace(['unacc', 'acc', 'good', 'vgood'], [0,1,2,3], inplace=True)"
   ]
  },
  {
   "cell_type": "markdown",
   "id": "accf1756",
   "metadata": {},
   "source": [
    "Następnie zamieniono nazwane wartości dyskretne na wartości liczbowe, rosnące wraz ze wzrostem aspektu pozytywnego."
   ]
  },
  {
   "cell_type": "code",
   "execution_count": 64,
   "id": "5eacb775",
   "metadata": {},
   "outputs": [
    {
     "data": {
      "text/html": [
       "<div>\n",
       "<style scoped>\n",
       "    .dataframe tbody tr th:only-of-type {\n",
       "        vertical-align: middle;\n",
       "    }\n",
       "\n",
       "    .dataframe tbody tr th {\n",
       "        vertical-align: top;\n",
       "    }\n",
       "\n",
       "    .dataframe thead th {\n",
       "        text-align: right;\n",
       "    }\n",
       "</style>\n",
       "<table border=\"1\" class=\"dataframe\">\n",
       "  <thead>\n",
       "    <tr style=\"text-align: right;\">\n",
       "      <th></th>\n",
       "      <th>buying</th>\n",
       "      <th>maint</th>\n",
       "      <th>doors</th>\n",
       "      <th>persons</th>\n",
       "      <th>lug_boot</th>\n",
       "      <th>safety</th>\n",
       "      <th>accept</th>\n",
       "    </tr>\n",
       "  </thead>\n",
       "  <tbody>\n",
       "    <tr>\n",
       "      <th>0</th>\n",
       "      <td>3</td>\n",
       "      <td>3</td>\n",
       "      <td>0</td>\n",
       "      <td>0</td>\n",
       "      <td>0</td>\n",
       "      <td>0</td>\n",
       "      <td>0</td>\n",
       "    </tr>\n",
       "    <tr>\n",
       "      <th>1</th>\n",
       "      <td>3</td>\n",
       "      <td>3</td>\n",
       "      <td>0</td>\n",
       "      <td>0</td>\n",
       "      <td>0</td>\n",
       "      <td>1</td>\n",
       "      <td>0</td>\n",
       "    </tr>\n",
       "    <tr>\n",
       "      <th>2</th>\n",
       "      <td>3</td>\n",
       "      <td>3</td>\n",
       "      <td>0</td>\n",
       "      <td>0</td>\n",
       "      <td>0</td>\n",
       "      <td>2</td>\n",
       "      <td>0</td>\n",
       "    </tr>\n",
       "    <tr>\n",
       "      <th>3</th>\n",
       "      <td>3</td>\n",
       "      <td>3</td>\n",
       "      <td>0</td>\n",
       "      <td>0</td>\n",
       "      <td>1</td>\n",
       "      <td>0</td>\n",
       "      <td>0</td>\n",
       "    </tr>\n",
       "    <tr>\n",
       "      <th>4</th>\n",
       "      <td>3</td>\n",
       "      <td>3</td>\n",
       "      <td>0</td>\n",
       "      <td>0</td>\n",
       "      <td>1</td>\n",
       "      <td>1</td>\n",
       "      <td>0</td>\n",
       "    </tr>\n",
       "    <tr>\n",
       "      <th>...</th>\n",
       "      <td>...</td>\n",
       "      <td>...</td>\n",
       "      <td>...</td>\n",
       "      <td>...</td>\n",
       "      <td>...</td>\n",
       "      <td>...</td>\n",
       "      <td>...</td>\n",
       "    </tr>\n",
       "    <tr>\n",
       "      <th>1723</th>\n",
       "      <td>0</td>\n",
       "      <td>0</td>\n",
       "      <td>3</td>\n",
       "      <td>2</td>\n",
       "      <td>1</td>\n",
       "      <td>1</td>\n",
       "      <td>2</td>\n",
       "    </tr>\n",
       "    <tr>\n",
       "      <th>1724</th>\n",
       "      <td>0</td>\n",
       "      <td>0</td>\n",
       "      <td>3</td>\n",
       "      <td>2</td>\n",
       "      <td>1</td>\n",
       "      <td>2</td>\n",
       "      <td>3</td>\n",
       "    </tr>\n",
       "    <tr>\n",
       "      <th>1725</th>\n",
       "      <td>0</td>\n",
       "      <td>0</td>\n",
       "      <td>3</td>\n",
       "      <td>2</td>\n",
       "      <td>2</td>\n",
       "      <td>0</td>\n",
       "      <td>0</td>\n",
       "    </tr>\n",
       "    <tr>\n",
       "      <th>1726</th>\n",
       "      <td>0</td>\n",
       "      <td>0</td>\n",
       "      <td>3</td>\n",
       "      <td>2</td>\n",
       "      <td>2</td>\n",
       "      <td>1</td>\n",
       "      <td>2</td>\n",
       "    </tr>\n",
       "    <tr>\n",
       "      <th>1727</th>\n",
       "      <td>0</td>\n",
       "      <td>0</td>\n",
       "      <td>3</td>\n",
       "      <td>2</td>\n",
       "      <td>2</td>\n",
       "      <td>2</td>\n",
       "      <td>3</td>\n",
       "    </tr>\n",
       "  </tbody>\n",
       "</table>\n",
       "<p>1728 rows × 7 columns</p>\n",
       "</div>"
      ],
      "text/plain": [
       "      buying  maint  doors  persons  lug_boot  safety  accept\n",
       "0          3      3      0        0         0       0       0\n",
       "1          3      3      0        0         0       1       0\n",
       "2          3      3      0        0         0       2       0\n",
       "3          3      3      0        0         1       0       0\n",
       "4          3      3      0        0         1       1       0\n",
       "...      ...    ...    ...      ...       ...     ...     ...\n",
       "1723       0      0      3        2         1       1       2\n",
       "1724       0      0      3        2         1       2       3\n",
       "1725       0      0      3        2         2       0       0\n",
       "1726       0      0      3        2         2       1       2\n",
       "1727       0      0      3        2         2       2       3\n",
       "\n",
       "[1728 rows x 7 columns]"
      ]
     },
     "execution_count": 64,
     "metadata": {},
     "output_type": "execute_result"
    }
   ],
   "source": [
    "cars"
   ]
  },
  {
   "cell_type": "code",
   "execution_count": 65,
   "id": "8b3cabbd",
   "metadata": {},
   "outputs": [
    {
     "data": {
      "text/html": [
       "<div>\n",
       "<style scoped>\n",
       "    .dataframe tbody tr th:only-of-type {\n",
       "        vertical-align: middle;\n",
       "    }\n",
       "\n",
       "    .dataframe tbody tr th {\n",
       "        vertical-align: top;\n",
       "    }\n",
       "\n",
       "    .dataframe thead th {\n",
       "        text-align: right;\n",
       "    }\n",
       "</style>\n",
       "<table border=\"1\" class=\"dataframe\">\n",
       "  <thead>\n",
       "    <tr style=\"text-align: right;\">\n",
       "      <th></th>\n",
       "      <th>buying</th>\n",
       "      <th>accept</th>\n",
       "    </tr>\n",
       "  </thead>\n",
       "  <tbody>\n",
       "    <tr>\n",
       "      <th>0</th>\n",
       "      <td>0</td>\n",
       "      <td>0.689815</td>\n",
       "    </tr>\n",
       "    <tr>\n",
       "      <th>1</th>\n",
       "      <td>1</td>\n",
       "      <td>0.553241</td>\n",
       "    </tr>\n",
       "    <tr>\n",
       "      <th>2</th>\n",
       "      <td>2</td>\n",
       "      <td>0.250000</td>\n",
       "    </tr>\n",
       "    <tr>\n",
       "      <th>3</th>\n",
       "      <td>3</td>\n",
       "      <td>0.166667</td>\n",
       "    </tr>\n",
       "  </tbody>\n",
       "</table>\n",
       "</div>"
      ],
      "text/plain": [
       "   buying    accept\n",
       "0       0  0.689815\n",
       "1       1  0.553241\n",
       "2       2  0.250000\n",
       "3       3  0.166667"
      ]
     },
     "execution_count": 65,
     "metadata": {},
     "output_type": "execute_result"
    }
   ],
   "source": [
    "cars[['buying', 'accept']].groupby(['buying'], as_index=False).mean().sort_values(by='accept', ascending=False)"
   ]
  },
  {
   "cell_type": "code",
   "execution_count": 66,
   "id": "1bb6fa18",
   "metadata": {},
   "outputs": [
    {
     "data": {
      "text/html": [
       "<div>\n",
       "<style scoped>\n",
       "    .dataframe tbody tr th:only-of-type {\n",
       "        vertical-align: middle;\n",
       "    }\n",
       "\n",
       "    .dataframe tbody tr th {\n",
       "        vertical-align: top;\n",
       "    }\n",
       "\n",
       "    .dataframe thead th {\n",
       "        text-align: right;\n",
       "    }\n",
       "</style>\n",
       "<table border=\"1\" class=\"dataframe\">\n",
       "  <thead>\n",
       "    <tr style=\"text-align: right;\">\n",
       "      <th></th>\n",
       "      <th>maint</th>\n",
       "      <th>accept</th>\n",
       "    </tr>\n",
       "  </thead>\n",
       "  <tbody>\n",
       "    <tr>\n",
       "      <th>0</th>\n",
       "      <td>0</td>\n",
       "      <td>0.606481</td>\n",
       "    </tr>\n",
       "    <tr>\n",
       "      <th>1</th>\n",
       "      <td>1</td>\n",
       "      <td>0.553241</td>\n",
       "    </tr>\n",
       "    <tr>\n",
       "      <th>2</th>\n",
       "      <td>2</td>\n",
       "      <td>0.333333</td>\n",
       "    </tr>\n",
       "    <tr>\n",
       "      <th>3</th>\n",
       "      <td>3</td>\n",
       "      <td>0.166667</td>\n",
       "    </tr>\n",
       "  </tbody>\n",
       "</table>\n",
       "</div>"
      ],
      "text/plain": [
       "   maint    accept\n",
       "0      0  0.606481\n",
       "1      1  0.553241\n",
       "2      2  0.333333\n",
       "3      3  0.166667"
      ]
     },
     "execution_count": 66,
     "metadata": {},
     "output_type": "execute_result"
    }
   ],
   "source": [
    "cars[['maint', 'accept']].groupby(['maint'], as_index=False).mean().sort_values(by='accept', ascending=False)"
   ]
  },
  {
   "cell_type": "code",
   "execution_count": 67,
   "id": "983933ac",
   "metadata": {},
   "outputs": [
    {
     "data": {
      "text/html": [
       "<div>\n",
       "<style scoped>\n",
       "    .dataframe tbody tr th:only-of-type {\n",
       "        vertical-align: middle;\n",
       "    }\n",
       "\n",
       "    .dataframe tbody tr th {\n",
       "        vertical-align: top;\n",
       "    }\n",
       "\n",
       "    .dataframe thead th {\n",
       "        text-align: right;\n",
       "    }\n",
       "</style>\n",
       "<table border=\"1\" class=\"dataframe\">\n",
       "  <thead>\n",
       "    <tr style=\"text-align: right;\">\n",
       "      <th></th>\n",
       "      <th>doors</th>\n",
       "      <th>accept</th>\n",
       "    </tr>\n",
       "  </thead>\n",
       "  <tbody>\n",
       "    <tr>\n",
       "      <th>2</th>\n",
       "      <td>2</td>\n",
       "      <td>0.458333</td>\n",
       "    </tr>\n",
       "    <tr>\n",
       "      <th>3</th>\n",
       "      <td>3</td>\n",
       "      <td>0.458333</td>\n",
       "    </tr>\n",
       "    <tr>\n",
       "      <th>1</th>\n",
       "      <td>1</td>\n",
       "      <td>0.416667</td>\n",
       "    </tr>\n",
       "    <tr>\n",
       "      <th>0</th>\n",
       "      <td>0</td>\n",
       "      <td>0.326389</td>\n",
       "    </tr>\n",
       "  </tbody>\n",
       "</table>\n",
       "</div>"
      ],
      "text/plain": [
       "   doors    accept\n",
       "2      2  0.458333\n",
       "3      3  0.458333\n",
       "1      1  0.416667\n",
       "0      0  0.326389"
      ]
     },
     "execution_count": 67,
     "metadata": {},
     "output_type": "execute_result"
    }
   ],
   "source": [
    "cars[['doors', 'accept']].groupby(['doors'], as_index=False).mean().sort_values(by='accept', ascending=False)"
   ]
  },
  {
   "cell_type": "code",
   "execution_count": 68,
   "id": "04899f1e",
   "metadata": {},
   "outputs": [
    {
     "data": {
      "text/html": [
       "<div>\n",
       "<style scoped>\n",
       "    .dataframe tbody tr th:only-of-type {\n",
       "        vertical-align: middle;\n",
       "    }\n",
       "\n",
       "    .dataframe tbody tr th {\n",
       "        vertical-align: top;\n",
       "    }\n",
       "\n",
       "    .dataframe thead th {\n",
       "        text-align: right;\n",
       "    }\n",
       "</style>\n",
       "<table border=\"1\" class=\"dataframe\">\n",
       "  <thead>\n",
       "    <tr style=\"text-align: right;\">\n",
       "      <th></th>\n",
       "      <th>persons</th>\n",
       "      <th>accept</th>\n",
       "    </tr>\n",
       "  </thead>\n",
       "  <tbody>\n",
       "    <tr>\n",
       "      <th>1</th>\n",
       "      <td>1</td>\n",
       "      <td>0.625000</td>\n",
       "    </tr>\n",
       "    <tr>\n",
       "      <th>2</th>\n",
       "      <td>2</td>\n",
       "      <td>0.619792</td>\n",
       "    </tr>\n",
       "    <tr>\n",
       "      <th>0</th>\n",
       "      <td>0</td>\n",
       "      <td>0.000000</td>\n",
       "    </tr>\n",
       "  </tbody>\n",
       "</table>\n",
       "</div>"
      ],
      "text/plain": [
       "   persons    accept\n",
       "1        1  0.625000\n",
       "2        2  0.619792\n",
       "0        0  0.000000"
      ]
     },
     "execution_count": 68,
     "metadata": {},
     "output_type": "execute_result"
    }
   ],
   "source": [
    "cars[['persons', 'accept']].groupby(['persons'], as_index=False).mean().sort_values(by='accept', ascending=False)"
   ]
  },
  {
   "cell_type": "code",
   "execution_count": 69,
   "id": "d9aa09d0",
   "metadata": {},
   "outputs": [
    {
     "data": {
      "text/html": [
       "<div>\n",
       "<style scoped>\n",
       "    .dataframe tbody tr th:only-of-type {\n",
       "        vertical-align: middle;\n",
       "    }\n",
       "\n",
       "    .dataframe tbody tr th {\n",
       "        vertical-align: top;\n",
       "    }\n",
       "\n",
       "    .dataframe thead th {\n",
       "        text-align: right;\n",
       "    }\n",
       "</style>\n",
       "<table border=\"1\" class=\"dataframe\">\n",
       "  <thead>\n",
       "    <tr style=\"text-align: right;\">\n",
       "      <th></th>\n",
       "      <th>lug_boot</th>\n",
       "      <th>accept</th>\n",
       "    </tr>\n",
       "  </thead>\n",
       "  <tbody>\n",
       "    <tr>\n",
       "      <th>2</th>\n",
       "      <td>2</td>\n",
       "      <td>0.541667</td>\n",
       "    </tr>\n",
       "    <tr>\n",
       "      <th>1</th>\n",
       "      <td>1</td>\n",
       "      <td>0.447917</td>\n",
       "    </tr>\n",
       "    <tr>\n",
       "      <th>0</th>\n",
       "      <td>0</td>\n",
       "      <td>0.255208</td>\n",
       "    </tr>\n",
       "  </tbody>\n",
       "</table>\n",
       "</div>"
      ],
      "text/plain": [
       "   lug_boot    accept\n",
       "2         2  0.541667\n",
       "1         1  0.447917\n",
       "0         0  0.255208"
      ]
     },
     "execution_count": 69,
     "metadata": {},
     "output_type": "execute_result"
    }
   ],
   "source": [
    "cars[['lug_boot', 'accept']].groupby(['lug_boot'], as_index=False).mean().sort_values(by='accept', ascending=False)"
   ]
  },
  {
   "cell_type": "code",
   "execution_count": 70,
   "id": "18302235",
   "metadata": {},
   "outputs": [
    {
     "data": {
      "text/html": [
       "<div>\n",
       "<style scoped>\n",
       "    .dataframe tbody tr th:only-of-type {\n",
       "        vertical-align: middle;\n",
       "    }\n",
       "\n",
       "    .dataframe tbody tr th {\n",
       "        vertical-align: top;\n",
       "    }\n",
       "\n",
       "    .dataframe thead th {\n",
       "        text-align: right;\n",
       "    }\n",
       "</style>\n",
       "<table border=\"1\" class=\"dataframe\">\n",
       "  <thead>\n",
       "    <tr style=\"text-align: right;\">\n",
       "      <th></th>\n",
       "      <th>safety</th>\n",
       "      <th>accept</th>\n",
       "    </tr>\n",
       "  </thead>\n",
       "  <tbody>\n",
       "    <tr>\n",
       "      <th>2</th>\n",
       "      <td>2</td>\n",
       "      <td>0.796875</td>\n",
       "    </tr>\n",
       "    <tr>\n",
       "      <th>1</th>\n",
       "      <td>1</td>\n",
       "      <td>0.447917</td>\n",
       "    </tr>\n",
       "    <tr>\n",
       "      <th>0</th>\n",
       "      <td>0</td>\n",
       "      <td>0.000000</td>\n",
       "    </tr>\n",
       "  </tbody>\n",
       "</table>\n",
       "</div>"
      ],
      "text/plain": [
       "   safety    accept\n",
       "2       2  0.796875\n",
       "1       1  0.447917\n",
       "0       0  0.000000"
      ]
     },
     "execution_count": 70,
     "metadata": {},
     "output_type": "execute_result"
    }
   ],
   "source": [
    "cars[['safety', 'accept']].groupby(['safety'], as_index=False).mean().sort_values(by='accept', ascending=False)"
   ]
  },
  {
   "cell_type": "code",
   "execution_count": 71,
   "id": "10224b88",
   "metadata": {},
   "outputs": [
    {
     "data": {
      "image/png": "[encoded data removed]",
      "text/plain": [
       "<Figure size 1000x800 with 2 Axes>"
      ]
     },
     "metadata": {},
     "output_type": "display_data"
    }
   ],
   "source": [
    "sns.heatmap(cars.corr(), annot=True, cmap='RdYlGn', linewidth=0.2)\n",
    "fig=plt.gcf()\n",
    "fig.set_size_inches(10, 8)\n",
    "plt.show()"
   ]
  },
  {
   "cell_type": "markdown",
   "id": "eabbb88e",
   "metadata": {},
   "source": [
    "Z powyższej matrycy wynika, że korelacja jest bliska zeru dla wszystkich wartości poza akceptacją, a największy wpływ na akceptację samochodu ma jego poziom bezpieczeństwa."
   ]
  },
  {
   "cell_type": "markdown",
   "id": "c52049b3",
   "metadata": {},
   "source": [
    "Następnie wyliczono współczynnik IR (ang. imbalance ratio)."
   ]
  },
  {
   "cell_type": "code",
   "execution_count": 72,
   "id": "e28e7598",
   "metadata": {},
   "outputs": [
    {
     "data": {
      "text/plain": [
       "2.335907335907336"
      ]
     },
     "execution_count": 72,
     "metadata": {},
     "output_type": "execute_result"
    }
   ],
   "source": [
    "sizes = cars[[\"accept\"]].groupby([\"accept\"], as_index=False).size()\n",
    "sizes.iloc[0][\"size\"] / (sizes.iloc[1][\"size\"] + sizes.iloc[2][\"size\"] + sizes.iloc[3][\"size\"])"
   ]
  },
  {
   "cell_type": "markdown",
   "id": "dd2b0a03",
   "metadata": {},
   "source": [
    "# Wnioski"
   ]
  },
  {
   "cell_type": "markdown",
   "id": "968b15f1",
   "metadata": {},
   "source": [
    "Podczas realizowania zadania zbadano zbiór danych dotyczących akceptacji samochodu. Ustalono, w jaki sposób poszczególne czynniki wpływają na akceptację samochodu przez klientów. Wyciągnięto wniosek, że największy wpływ na akceptację samochodu ma poziom jego bezpieczeństwa, co może wskazywać na to, że producenci samochodów powinni się skupić przede wszystkim na zabezpieczeniu samochodu przed wypadkami i niebezpiecznymi czynnikami. Nie napotkano większych problemów z realizacją zadania."
   ]
  },
  {
   "cell_type": "code",
   "execution_count": null,
   "id": "0a3eae59",
   "metadata": {},
   "outputs": [],
   "source": []
  }
 ],
 "metadata": {
  "kernelspec": {
   "display_name": "Python 3.10.7 64-bit",
   "language": "python",
   "name": "python3"
  },
  "language_info": {
   "codemirror_mode": {
    "name": "ipython",
    "version": 3
   },
   "file_extension": ".py",
   "mimetype": "text/x-python",
   "name": "python",
   "nbconvert_exporter": "python",
   "pygments_lexer": "ipython3",
   "version": "3.10.7"
  },
  "vscode": {
   "interpreter": {
    "hash": "1dd0381d1fc2fb15dda0c9601b2866ce5a466e54b3f253773e8ed097d13694fa"
   }
  }
 },
 "nbformat": 4,
 "nbformat_minor": 5
}
